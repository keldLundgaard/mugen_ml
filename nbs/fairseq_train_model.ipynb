{
 "cells": [
  {
   "cell_type": "code",
   "execution_count": 17,
   "metadata": {},
   "outputs": [
    {
     "name": "stdout",
     "output_type": "stream",
     "text": [
      "%pylab is deprecated, use %matplotlib inline and import the required libraries.\n",
      "Populating the interactive namespace from numpy and matplotlib\n",
      "The autoreload extension is already loaded. To reload it, use:\n",
      "  %reload_ext autoreload\n"
     ]
    }
   ],
   "source": [
    "import os, sys, time, pickle\n",
    "from pathlib import Path\n",
    "from collections import Counter\n",
    "from IPython.display import Audio\n",
    "\n",
    "PROJECT_DIR = Path(sys.path[0])/\"..\"\n",
    "DATA_DIR = PROJECT_DIR/\"data\"\n",
    "SRC_DIR = PROJECT_DIR/\"src\"\n",
    "DEPS_DIR = PROJECT_DIR/\"deps\"\n",
    "\n",
    "sys.path.append(str(SRC_DIR))\n",
    "sys.path.append(str(DEPS_DIR))\n",
    "\n",
    "%pylab inline\n",
    "%config InlineBackend.figure_format='retina'\n",
    "\n",
    "%load_ext autoreload \n",
    "%autoreload 2\n",
    "\n",
    "from tqdm import tqdm\n",
    "\n",
    "import torch\n",
    "from torch.utils.data import Dataset, DataLoader\n",
    "from fairseq_wav2vec import Wav2Vec2Config, Wav2Vec2Model\n",
    "import pandas as pd\n",
    "\n",
    "import lightning.pytorch as pl\n",
    "\n",
    "torch.set_float32_matmul_precision(\"medium\")\n",
    "\n",
    "from mugen_train import (\n",
    "    musicDataset, IDX_to_GENRE, GENRE_TO_IDX, \n",
    "    get_music_data_loaders, GenreClassifier, \n",
    "#     train_genre_predict, validation_genre_predict,\n",
    "    GenreEncoder,\n",
    "    get_num_params)"
   ]
  },
  {
   "cell_type": "code",
   "execution_count": 2,
   "metadata": {},
   "outputs": [
    {
     "name": "stdout",
     "output_type": "stream",
     "text": [
      "2.0.0\n"
     ]
    }
   ],
   "source": [
    "print(pl.__version__) "
   ]
  },
  {
   "cell_type": "code",
   "execution_count": 3,
   "metadata": {},
   "outputs": [],
   "source": [
    "feature_size = 128\n",
    "n_genres = 50\n",
    "top50_genre_samples_df = pd.read_csv(\"/n1Tb/sc_mp3_top50_genre_samples.tsv_gz\", compression='gzip', sep='\\t')\n",
    "\n",
    "train_loader, valid_loader = get_music_data_loaders(top50_genre_samples_df, cut=8e4)"
   ]
  },
  {
   "cell_type": "code",
   "execution_count": 4,
   "metadata": {},
   "outputs": [
    {
     "name": "stdout",
     "output_type": "stream",
     "text": [
      "wav2vec-model n_params: 95,356,288\n",
      "genre_classifier n_params: 5,100\n"
     ]
    }
   ],
   "source": [
    "precision = 16\n",
    "\n",
    "encoder = Wav2Vec2Model(Wav2Vec2Config)\n",
    "\n",
    "t_specs = {\n",
    "#     \"d_model\": 128, \n",
    "    \"dim_feedforward\": 64, \n",
    "    \"num_decoder_layers\": 0,\n",
    "    \"num_encoder_layers\": 0,\n",
    "    \"nhead\": 1,\n",
    "}\n",
    "decoder = GenreClassifier(n_genres, feature_size, t_specs=t_specs, use_transformer=False)\n",
    "# genre_loss_model = GenreLoss(n_genres, feature_size, genre_classifier)\n",
    "\n",
    "print(f\"wav2vec-model n_params: {get_num_params(encoder):,d}\")\n",
    "print(f\"genre_classifier n_params: {get_num_params(decoder):,d}\")\n",
    "\n",
    "# optimizer = torch.optim.Adam(model.parameters(), lr=0.05, betas=(0.9,0.98), eps=1e-06, weight_decay=0.01, fused=True)\n",
    "#optimizer = torch.optim.Adam(genre_classifier.parameters(), lr=0.005, betas=(0.9,0.98), eps=1e-06, weight_decay=0.01, fused=True)"
   ]
  },
  {
   "cell_type": "code",
   "execution_count": 14,
   "metadata": {},
   "outputs": [
    {
     "name": "stderr",
     "output_type": "stream",
     "text": [
      "INFO: GPU available: True (cuda), used: True\n",
      "2023-03-28 22:52:04 | INFO | lightning.pytorch.utilities.rank_zero | GPU available: True (cuda), used: True\n",
      "INFO: TPU available: False, using: 0 TPU cores\n",
      "2023-03-28 22:52:04 | INFO | lightning.pytorch.utilities.rank_zero | TPU available: False, using: 0 TPU cores\n",
      "INFO: IPU available: False, using: 0 IPUs\n",
      "2023-03-28 22:52:04 | INFO | lightning.pytorch.utilities.rank_zero | IPU available: False, using: 0 IPUs\n",
      "INFO: HPU available: False, using: 0 HPUs\n",
      "2023-03-28 22:52:04 | INFO | lightning.pytorch.utilities.rank_zero | HPU available: False, using: 0 HPUs\n"
     ]
    }
   ],
   "source": [
    "genre_predictor = GenreEncoder(encoder, decoder)\n",
    "\n",
    "# torch.multiprocessing.set_start_method('spawn')\n",
    "\n",
    "trainer = pl.Trainer(\n",
    "    limit_train_batches=1000, \n",
    "    max_epochs=1, \n",
    "    accelerator=\"gpu\", \n",
    "    devices=1,\n",
    "#     strategy='ddp_notebook',     \n",
    "#     precision='16-mixed'\n",
    "#     precision=16, \n",
    "#     devices=2, \n",
    ")\n",
    "\n",
    "# trainer.fit(model=genre_predictor, train_dataloaders=train_loader)"
   ]
  },
  {
   "cell_type": "code",
   "execution_count": 15,
   "metadata": {},
   "outputs": [],
   "source": []
  },
  {
   "cell_type": "code",
   "execution_count": 18,
   "metadata": {},
   "outputs": [
    {
     "name": "stderr",
     "output_type": "stream",
     "text": [
      "INFO: LOCAL_RANK: 0 - CUDA_VISIBLE_DEVICES: [0,1]\n",
      "2023-03-28 22:53:46 | INFO | lightning.pytorch.accelerators.cuda | LOCAL_RANK: 0 - CUDA_VISIBLE_DEVICES: [0,1]\n"
     ]
    },
    {
     "data": {
      "application/vnd.jupyter.widget-view+json": {
       "model_id": "18d9b2be0bd5408da7c0a9614c2f57c4",
       "version_major": 2,
       "version_minor": 0
      },
      "text/plain": [
       "Finding best initial lr:   0%|          | 0/100 [00:00<?, ?it/s]"
      ]
     },
     "metadata": {},
     "output_type": "display_data"
    },
    {
     "name": "stderr",
     "output_type": "stream",
     "text": [
      "INFO: `Trainer.fit` stopped: `max_steps=100` reached.\n",
      "2023-03-28 22:54:28 | INFO | lightning.pytorch.utilities.rank_zero | `Trainer.fit` stopped: `max_steps=100` reached.\n",
      "INFO: Learning rate set to 0.0630957344480193\n",
      "2023-03-28 22:54:28 | INFO | lightning.pytorch.tuner.lr_finder | Learning rate set to 0.0630957344480193\n",
      "INFO: Restoring states from the checkpoint path at /home/keld/projects/music_gen/mugen_ml/nbs/.lr_find_664d59da-116d-48f5-9286-b2ce6152eb25.ckpt\n",
      "2023-03-28 22:54:28 | INFO | lightning.pytorch.utilities.rank_zero | Restoring states from the checkpoint path at /home/keld/projects/music_gen/mugen_ml/nbs/.lr_find_664d59da-116d-48f5-9286-b2ce6152eb25.ckpt\n",
      "INFO: Restored all states from the checkpoint at /home/keld/projects/music_gen/mugen_ml/nbs/.lr_find_664d59da-116d-48f5-9286-b2ce6152eb25.ckpt\n",
      "2023-03-28 22:54:29 | INFO | lightning.pytorch.utilities.rank_zero | Restored all states from the checkpoint at /home/keld/projects/music_gen/mugen_ml/nbs/.lr_find_664d59da-116d-48f5-9286-b2ce6152eb25.ckpt\n"
     ]
    }
   ],
   "source": []
  },
  {
   "cell_type": "code",
   "execution_count": 20,
   "metadata": {},
   "outputs": [
    {
     "data": {
      "text/plain": [
       "dict_keys(['lr', 'loss'])"
      ]
     },
     "execution_count": 20,
     "metadata": {},
     "output_type": "execute_result"
    }
   ],
   "source": [
    "out_lr_finder.results.keys()"
   ]
  },
  {
   "cell_type": "code",
   "execution_count": null,
   "metadata": {},
   "outputs": [],
   "source": []
  },
  {
   "cell_type": "markdown",
   "metadata": {},
   "source": [
    "### Learning rate finder"
   ]
  },
  {
   "cell_type": "code",
   "execution_count": 35,
   "metadata": {},
   "outputs": [],
   "source": [
    "def get_lr(trainer, model, train_loader, plot=False):\n",
    "    tuner = pl.tuner.tuning.Tuner(trainer)\n",
    "    out_lr_finder = tuner.lr_find(model=model, train_dataloaders=train_loader)\n",
    "\n",
    "    lrf_lr = out_lr_finder.results[\"lr\"]\n",
    "    lrf_loss = out_lr_finder.results[\"loss\"]\n",
    "    opt_idx = out_lr_finder._optimal_idx\n",
    "    if plot:\n",
    "        plt.plot(lrf_lr, lrf_loss);\n",
    "        plt.plot(lrf_lr[opt_idx], lrf_loss[opt_idx], \"x\", label=\"optimum\");\n",
    "        plt.legend()\n",
    "\n",
    "        plt.xscale(\"log\");\n",
    "    print(f\"Optimal lr: {lrf_lr[opt_idx]}\")        \n",
    "    return lrf_lr[opt_idx]"
   ]
  },
  {
   "cell_type": "code",
   "execution_count": 36,
   "metadata": {},
   "outputs": [
    {
     "name": "stderr",
     "output_type": "stream",
     "text": [
      "INFO: LOCAL_RANK: 0 - CUDA_VISIBLE_DEVICES: [0,1]\n",
      "2023-03-28 23:05:27 | INFO | lightning.pytorch.accelerators.cuda | LOCAL_RANK: 0 - CUDA_VISIBLE_DEVICES: [0,1]\n"
     ]
    },
    {
     "data": {
      "application/vnd.jupyter.widget-view+json": {
       "model_id": "3b84366eb4a340bb87c7be320cc5cee6",
       "version_major": 2,
       "version_minor": 0
      },
      "text/plain": [
       "Finding best initial lr:   0%|          | 0/100 [00:00<?, ?it/s]"
      ]
     },
     "metadata": {},
     "output_type": "display_data"
    },
    {
     "name": "stderr",
     "output_type": "stream",
     "text": [
      "INFO: `Trainer.fit` stopped: `max_steps=100` reached.\n",
      "2023-03-28 23:06:09 | INFO | lightning.pytorch.utilities.rank_zero | `Trainer.fit` stopped: `max_steps=100` reached.\n",
      "INFO: Learning rate set to 0.0630957344480193\n",
      "2023-03-28 23:06:09 | INFO | lightning.pytorch.tuner.lr_finder | Learning rate set to 0.0630957344480193\n",
      "INFO: Restoring states from the checkpoint path at /home/keld/projects/music_gen/mugen_ml/nbs/.lr_find_d1c4077c-6cd5-4b8e-982e-47accb167405.ckpt\n",
      "2023-03-28 23:06:09 | INFO | lightning.pytorch.utilities.rank_zero | Restoring states from the checkpoint path at /home/keld/projects/music_gen/mugen_ml/nbs/.lr_find_d1c4077c-6cd5-4b8e-982e-47accb167405.ckpt\n",
      "INFO: Restored all states from the checkpoint at /home/keld/projects/music_gen/mugen_ml/nbs/.lr_find_d1c4077c-6cd5-4b8e-982e-47accb167405.ckpt\n",
      "2023-03-28 23:06:09 | INFO | lightning.pytorch.utilities.rank_zero | Restored all states from the checkpoint at /home/keld/projects/music_gen/mugen_ml/nbs/.lr_find_d1c4077c-6cd5-4b8e-982e-47accb167405.ckpt\n"
     ]
    },
    {
     "name": "stdout",
     "output_type": "stream",
     "text": [
      "Optimal lr: 0.0630957344480193\n"
     ]
    },
    {
     "data": {
      "text/plain": [
       "0.0630957344480193"
      ]
     },
     "execution_count": 36,
     "metadata": {},
     "output_type": "execute_result"
    },
    {
     "data": {
      "image/png": "[encoded data removed]",
      "text/plain": [
       "<Figure size 640x480 with 1 Axes>"
      ]
     },
     "metadata": {
      "image/png": {
       "height": 414,
       "width": 556
      }
     },
     "output_type": "display_data"
    }
   ],
   "source": [
    "get_lr(trainer, genre_predictor, train_loader, plot=True)"
   ]
  },
  {
   "cell_type": "code",
   "execution_count": 34,
   "metadata": {},
   "outputs": [
    {
     "name": "stdout",
     "output_type": "stream",
     "text": [
      "optimal lr: 0.0630957344480193\n"
     ]
    },
    {
     "data": {
      "image/png": "[encoded data removed]",
      "text/plain": [
       "<Figure size 640x480 with 1 Axes>"
      ]
     },
     "metadata": {
      "image/png": {
       "height": 414,
       "width": 556
      }
     },
     "output_type": "display_data"
    }
   ],
   "source": [
    "lrf_lr = out_lr_finder.results[\"lr\"]\n",
    "lrf_loss = out_lr_finder.results[\"loss\"]\n",
    "opt_idx = out_lr_finder._optimal_idx\n",
    "\n",
    "plt.plot(lrf_lr, lrf_loss);\n",
    "plt.plot(lrf_lr[opt_idx], lrf_loss[opt_idx], \"x\", label=\"optimum\");\n",
    "plt.legend()\n",
    "\n",
    "plt.xscale(\"log\");\n",
    "print(f\"Optimal lr: {lrf_lr[opt_idx]}\")"
   ]
  },
  {
   "cell_type": "markdown",
   "metadata": {},
   "source": []
  },
  {
   "cell_type": "code",
   "execution_count": 25,
   "metadata": {},
   "outputs": [
    {
     "data": {
      "text/plain": [
       "dict_keys(['mode', 'lr_min', 'lr_max', 'num_training', 'results', '_total_batch_idx', '_optimal_idx'])"
      ]
     },
     "execution_count": 25,
     "metadata": {},
     "output_type": "execute_result"
    }
   ],
   "source": [
    "out_lr_finder.__dict__.keys()"
   ]
  },
  {
   "cell_type": "code",
   "execution_count": 28,
   "metadata": {},
   "outputs": [
    {
     "data": {
      "text/plain": [
       "'exponential'"
      ]
     },
     "execution_count": 28,
     "metadata": {},
     "output_type": "execute_result"
    }
   ],
   "source": [
    "out_lr_finder.mode"
   ]
  },
  {
   "cell_type": "code",
   "execution_count": 26,
   "metadata": {},
   "outputs": [
    {
     "data": {
      "text/plain": [
       "84"
      ]
     },
     "execution_count": 26,
     "metadata": {},
     "output_type": "execute_result"
    }
   ],
   "source": [
    "out_lr_finder._optimal_idx"
   ]
  },
  {
   "cell_type": "code",
   "execution_count": 12,
   "metadata": {},
   "outputs": [
    {
     "data": {
      "text/html": [
       "<pre style=\"white-space:pre;overflow-x:auto;line-height:normal;font-family:Menlo,'DejaVu Sans Mono',consolas,'Courier New',monospace\"><span style=\"color: #800000; text-decoration-color: #800000\">╭─────────────────────────────── </span><span style=\"color: #800000; text-decoration-color: #800000; font-weight: bold\">Traceback </span><span style=\"color: #bf7f7f; text-decoration-color: #bf7f7f; font-weight: bold\">(most recent call last)</span><span style=\"color: #800000; text-decoration-color: #800000\"> ────────────────────────────────╮</span>\n",
       "<span style=\"color: #800000; text-decoration-color: #800000\">│</span> in <span style=\"color: #00ff00; text-decoration-color: #00ff00\">&lt;module&gt;</span>:<span style=\"color: #0000ff; text-decoration-color: #0000ff\">1</span>                                                                                    <span style=\"color: #800000; text-decoration-color: #800000\">│</span>\n",
       "<span style=\"color: #800000; text-decoration-color: #800000\">│</span>                                                                                                  <span style=\"color: #800000; text-decoration-color: #800000\">│</span>\n",
       "<span style=\"color: #800000; text-decoration-color: #800000\">│</span> <span style=\"color: #800000; text-decoration-color: #800000\">❱ </span>1 genre_predictor.lr                                                                           <span style=\"color: #800000; text-decoration-color: #800000\">│</span>\n",
       "<span style=\"color: #800000; text-decoration-color: #800000\">│</span>   <span style=\"color: #7f7f7f; text-decoration-color: #7f7f7f\">2 </span>                                                                                             <span style=\"color: #800000; text-decoration-color: #800000\">│</span>\n",
       "<span style=\"color: #800000; text-decoration-color: #800000\">│</span>                                                                                                  <span style=\"color: #800000; text-decoration-color: #800000\">│</span>\n",
       "<span style=\"color: #800000; text-decoration-color: #800000\">│</span> <span style=\"color: #bfbf7f; text-decoration-color: #bfbf7f\">/home/keld/miniconda3/envs/mugen_ml/lib/python3.9/site-packages/torch/nn/modules/</span><span style=\"color: #808000; text-decoration-color: #808000; font-weight: bold\">module.py</span>:<span style=\"color: #0000ff; text-decoration-color: #0000ff\">1269</span>  <span style=\"color: #800000; text-decoration-color: #800000\">│</span>\n",
       "<span style=\"color: #800000; text-decoration-color: #800000\">│</span> in <span style=\"color: #00ff00; text-decoration-color: #00ff00\">__getattr__</span>                                                                                   <span style=\"color: #800000; text-decoration-color: #800000\">│</span>\n",
       "<span style=\"color: #800000; text-decoration-color: #800000\">│</span>                                                                                                  <span style=\"color: #800000; text-decoration-color: #800000\">│</span>\n",
       "<span style=\"color: #800000; text-decoration-color: #800000\">│</span>   <span style=\"color: #7f7f7f; text-decoration-color: #7f7f7f\">1266 │   │   │   </span>modules = <span style=\"color: #00ffff; text-decoration-color: #00ffff\">self</span>.<span style=\"color: #ff0000; text-decoration-color: #ff0000\">__dict__</span>[<span style=\"color: #808000; text-decoration-color: #808000\">'_modules'</span>]                                           <span style=\"color: #800000; text-decoration-color: #800000\">│</span>\n",
       "<span style=\"color: #800000; text-decoration-color: #800000\">│</span>   <span style=\"color: #7f7f7f; text-decoration-color: #7f7f7f\">1267 │   │   │   </span><span style=\"color: #0000ff; text-decoration-color: #0000ff\">if</span> name <span style=\"color: #ff00ff; text-decoration-color: #ff00ff\">in</span> modules:                                                           <span style=\"color: #800000; text-decoration-color: #800000\">│</span>\n",
       "<span style=\"color: #800000; text-decoration-color: #800000\">│</span>   <span style=\"color: #7f7f7f; text-decoration-color: #7f7f7f\">1268 │   │   │   │   </span><span style=\"color: #0000ff; text-decoration-color: #0000ff\">return</span> modules[name]                                                      <span style=\"color: #800000; text-decoration-color: #800000\">│</span>\n",
       "<span style=\"color: #800000; text-decoration-color: #800000\">│</span> <span style=\"color: #800000; text-decoration-color: #800000\">❱ </span>1269 <span style=\"color: #7f7f7f; text-decoration-color: #7f7f7f\">│   │   </span><span style=\"color: #0000ff; text-decoration-color: #0000ff\">raise</span> <span style=\"color: #00ffff; text-decoration-color: #00ffff\">AttributeError</span>(<span style=\"color: #808000; text-decoration-color: #808000\">\"'{}' object has no attribute '{}'\"</span>.format(                  <span style=\"color: #800000; text-decoration-color: #800000\">│</span>\n",
       "<span style=\"color: #800000; text-decoration-color: #800000\">│</span>   <span style=\"color: #7f7f7f; text-decoration-color: #7f7f7f\">1270 │   │   │   </span><span style=\"color: #00ffff; text-decoration-color: #00ffff\">type</span>(<span style=\"color: #00ffff; text-decoration-color: #00ffff\">self</span>).<span style=\"color: #ff0000; text-decoration-color: #ff0000\">__name__</span>, name))                                                   <span style=\"color: #800000; text-decoration-color: #800000\">│</span>\n",
       "<span style=\"color: #800000; text-decoration-color: #800000\">│</span>   <span style=\"color: #7f7f7f; text-decoration-color: #7f7f7f\">1271 │   </span>                                                                                      <span style=\"color: #800000; text-decoration-color: #800000\">│</span>\n",
       "<span style=\"color: #800000; text-decoration-color: #800000\">│</span>   <span style=\"color: #7f7f7f; text-decoration-color: #7f7f7f\">1272 │   </span><span style=\"color: #0000ff; text-decoration-color: #0000ff\">def</span> <span style=\"color: #00ff00; text-decoration-color: #00ff00\">__setattr__</span>(<span style=\"color: #00ffff; text-decoration-color: #00ffff\">self</span>, name: <span style=\"color: #00ffff; text-decoration-color: #00ffff\">str</span>, value: Union[Tensor, <span style=\"color: #808000; text-decoration-color: #808000\">'Module'</span>]) -&gt; <span style=\"color: #0000ff; text-decoration-color: #0000ff\">None</span>:             <span style=\"color: #800000; text-decoration-color: #800000\">│</span>\n",
       "<span style=\"color: #800000; text-decoration-color: #800000\">╰──────────────────────────────────────────────────────────────────────────────────────────────────╯</span>\n",
       "<span style=\"color: #ff0000; text-decoration-color: #ff0000; font-weight: bold\">AttributeError: </span><span style=\"color: #008000; text-decoration-color: #008000\">'GenreEncoder'</span> object has no attribute <span style=\"color: #008000; text-decoration-color: #008000\">'lr'</span>\n",
       "</pre>\n"
      ],
      "text/plain": [
       "\u001b[31m╭─\u001b[0m\u001b[31m──────────────────────────────\u001b[0m\u001b[31m \u001b[0m\u001b[1;31mTraceback \u001b[0m\u001b[1;2;31m(most recent call last)\u001b[0m\u001b[31m \u001b[0m\u001b[31m───────────────────────────────\u001b[0m\u001b[31m─╮\u001b[0m\n",
       "\u001b[31m│\u001b[0m in \u001b[92m<module>\u001b[0m:\u001b[94m1\u001b[0m                                                                                    \u001b[31m│\u001b[0m\n",
       "\u001b[31m│\u001b[0m                                                                                                  \u001b[31m│\u001b[0m\n",
       "\u001b[31m│\u001b[0m \u001b[31m❱ \u001b[0m1 genre_predictor.lr                                                                           \u001b[31m│\u001b[0m\n",
       "\u001b[31m│\u001b[0m   \u001b[2m2 \u001b[0m                                                                                             \u001b[31m│\u001b[0m\n",
       "\u001b[31m│\u001b[0m                                                                                                  \u001b[31m│\u001b[0m\n",
       "\u001b[31m│\u001b[0m \u001b[2;33m/home/keld/miniconda3/envs/mugen_ml/lib/python3.9/site-packages/torch/nn/modules/\u001b[0m\u001b[1;33mmodule.py\u001b[0m:\u001b[94m1269\u001b[0m  \u001b[31m│\u001b[0m\n",
       "\u001b[31m│\u001b[0m in \u001b[92m__getattr__\u001b[0m                                                                                   \u001b[31m│\u001b[0m\n",
       "\u001b[31m│\u001b[0m                                                                                                  \u001b[31m│\u001b[0m\n",
       "\u001b[31m│\u001b[0m   \u001b[2m1266 \u001b[0m\u001b[2m│   │   │   \u001b[0mmodules = \u001b[96mself\u001b[0m.\u001b[91m__dict__\u001b[0m[\u001b[33m'\u001b[0m\u001b[33m_modules\u001b[0m\u001b[33m'\u001b[0m]                                           \u001b[31m│\u001b[0m\n",
       "\u001b[31m│\u001b[0m   \u001b[2m1267 \u001b[0m\u001b[2m│   │   │   \u001b[0m\u001b[94mif\u001b[0m name \u001b[95min\u001b[0m modules:                                                           \u001b[31m│\u001b[0m\n",
       "\u001b[31m│\u001b[0m   \u001b[2m1268 \u001b[0m\u001b[2m│   │   │   │   \u001b[0m\u001b[94mreturn\u001b[0m modules[name]                                                      \u001b[31m│\u001b[0m\n",
       "\u001b[31m│\u001b[0m \u001b[31m❱ \u001b[0m1269 \u001b[2m│   │   \u001b[0m\u001b[94mraise\u001b[0m \u001b[96mAttributeError\u001b[0m(\u001b[33m\"\u001b[0m\u001b[33m'\u001b[0m\u001b[33m{}\u001b[0m\u001b[33m'\u001b[0m\u001b[33m object has no attribute \u001b[0m\u001b[33m'\u001b[0m\u001b[33m{}\u001b[0m\u001b[33m'\u001b[0m\u001b[33m\"\u001b[0m.format(                  \u001b[31m│\u001b[0m\n",
       "\u001b[31m│\u001b[0m   \u001b[2m1270 \u001b[0m\u001b[2m│   │   │   \u001b[0m\u001b[96mtype\u001b[0m(\u001b[96mself\u001b[0m).\u001b[91m__name__\u001b[0m, name))                                                   \u001b[31m│\u001b[0m\n",
       "\u001b[31m│\u001b[0m   \u001b[2m1271 \u001b[0m\u001b[2m│   \u001b[0m                                                                                      \u001b[31m│\u001b[0m\n",
       "\u001b[31m│\u001b[0m   \u001b[2m1272 \u001b[0m\u001b[2m│   \u001b[0m\u001b[94mdef\u001b[0m \u001b[92m__setattr__\u001b[0m(\u001b[96mself\u001b[0m, name: \u001b[96mstr\u001b[0m, value: Union[Tensor, \u001b[33m'\u001b[0m\u001b[33mModule\u001b[0m\u001b[33m'\u001b[0m]) -> \u001b[94mNone\u001b[0m:             \u001b[31m│\u001b[0m\n",
       "\u001b[31m╰──────────────────────────────────────────────────────────────────────────────────────────────────╯\u001b[0m\n",
       "\u001b[1;91mAttributeError: \u001b[0m\u001b[32m'GenreEncoder'\u001b[0m object has no attribute \u001b[32m'lr'\u001b[0m\n"
      ]
     },
     "metadata": {},
     "output_type": "display_data"
    }
   ],
   "source": [
    "genre_predictor.lr"
   ]
  },
  {
   "cell_type": "code",
   "execution_count": 5,
   "metadata": {},
   "outputs": [
    {
     "name": "stdout",
     "output_type": "stream",
     "text": [
      "> \u001b[0;32m/home/keld/miniconda3/envs/mugen_ml/lib/python3.9/site-packages/fairseq/utils.py\u001b[0m(744)\u001b[0;36mindex_put\u001b[0;34m()\u001b[0m\n",
      "\u001b[0;32m    742 \u001b[0;31m        \u001b[0mtensor\u001b[0m \u001b[0;34m=\u001b[0m \u001b[0mtorch\u001b[0m\u001b[0;34m.\u001b[0m\u001b[0mmul\u001b[0m\u001b[0;34m(\u001b[0m\u001b[0mtensor\u001b[0m\u001b[0;34m,\u001b[0m \u001b[0;34m~\u001b[0m\u001b[0mindices\u001b[0m\u001b[0;34m)\u001b[0m \u001b[0;34m+\u001b[0m \u001b[0mtorch\u001b[0m\u001b[0;34m.\u001b[0m\u001b[0mmul\u001b[0m\u001b[0;34m(\u001b[0m\u001b[0mvalue\u001b[0m\u001b[0;34m,\u001b[0m \u001b[0mindices\u001b[0m\u001b[0;34m)\u001b[0m\u001b[0;34m\u001b[0m\u001b[0;34m\u001b[0m\u001b[0m\n",
      "\u001b[0m\u001b[0;32m    743 \u001b[0;31m    \u001b[0;32melse\u001b[0m\u001b[0;34m:\u001b[0m\u001b[0;34m\u001b[0m\u001b[0;34m\u001b[0m\u001b[0m\n",
      "\u001b[0m\u001b[0;32m--> 744 \u001b[0;31m        \u001b[0mtensor\u001b[0m\u001b[0;34m[\u001b[0m\u001b[0mindices\u001b[0m\u001b[0;34m]\u001b[0m \u001b[0;34m=\u001b[0m \u001b[0mvalue\u001b[0m\u001b[0;34m\u001b[0m\u001b[0;34m\u001b[0m\u001b[0m\n",
      "\u001b[0m\u001b[0;32m    745 \u001b[0;31m    \u001b[0;32mreturn\u001b[0m \u001b[0mtensor\u001b[0m\u001b[0;34m\u001b[0m\u001b[0;34m\u001b[0m\u001b[0m\n",
      "\u001b[0m\u001b[0;32m    746 \u001b[0;31m\u001b[0;34m\u001b[0m\u001b[0m\n",
      "\u001b[0m\n"
     ]
    },
    {
     "name": "stdin",
     "output_type": "stream",
     "text": [
      "ipdb>  up\n"
     ]
    },
    {
     "name": "stdout",
     "output_type": "stream",
     "text": [
      "> \u001b[0;32m/home/keld/projects/music_gen/mugen_ml/src/fairseq_wav2vec.py\u001b[0m(457)\u001b[0;36mapply_mask\u001b[0;34m()\u001b[0m\n",
      "\u001b[0;32m    455 \u001b[0;31m                )\n",
      "\u001b[0m\u001b[0;32m    456 \u001b[0;31m                \u001b[0mmask_indices\u001b[0m \u001b[0;34m=\u001b[0m \u001b[0mtorch\u001b[0m\u001b[0;34m.\u001b[0m\u001b[0mfrom_numpy\u001b[0m\u001b[0;34m(\u001b[0m\u001b[0mmask_indices\u001b[0m\u001b[0;34m)\u001b[0m\u001b[0;34m.\u001b[0m\u001b[0mto\u001b[0m\u001b[0;34m(\u001b[0m\u001b[0mx\u001b[0m\u001b[0;34m.\u001b[0m\u001b[0mdevice\u001b[0m\u001b[0;34m)\u001b[0m\u001b[0;34m\u001b[0m\u001b[0;34m\u001b[0m\u001b[0m\n",
      "\u001b[0m\u001b[0;32m--> 457 \u001b[0;31m            \u001b[0mx\u001b[0m \u001b[0;34m=\u001b[0m \u001b[0mindex_put\u001b[0m\u001b[0;34m(\u001b[0m\u001b[0mx\u001b[0m\u001b[0;34m,\u001b[0m \u001b[0mmask_indices\u001b[0m\u001b[0;34m,\u001b[0m \u001b[0mself\u001b[0m\u001b[0;34m.\u001b[0m\u001b[0mmask_emb\u001b[0m\u001b[0;34m)\u001b[0m\u001b[0;34m\u001b[0m\u001b[0;34m\u001b[0m\u001b[0m\n",
      "\u001b[0m\u001b[0;32m    458 \u001b[0;31m        \u001b[0;32melse\u001b[0m\u001b[0;34m:\u001b[0m\u001b[0;34m\u001b[0m\u001b[0;34m\u001b[0m\u001b[0m\n",
      "\u001b[0m\u001b[0;32m    459 \u001b[0;31m            \u001b[0mmask_indices\u001b[0m \u001b[0;34m=\u001b[0m \u001b[0;32mNone\u001b[0m\u001b[0;34m\u001b[0m\u001b[0;34m\u001b[0m\u001b[0m\n",
      "\u001b[0m\n"
     ]
    },
    {
     "name": "stdin",
     "output_type": "stream",
     "text": [
      "ipdb>  q\n"
     ]
    }
   ],
   "source": [
    "%debug"
   ]
  },
  {
   "cell_type": "code",
   "execution_count": null,
   "metadata": {},
   "outputs": [],
   "source": []
  },
  {
   "cell_type": "code",
   "execution_count": null,
   "metadata": {},
   "outputs": [],
   "source": [
    "trainer = pl.Trainer(limit_train_batches=100, max_epochs=1)\n",
    "trainer.fit(model=autoencoder, train_dataloaders=train_loader)\n"
   ]
  },
  {
   "cell_type": "code",
   "execution_count": 4,
   "metadata": {},
   "outputs": [],
   "source": [
    "#train_genre_predict(model, optimizer, data_loader, debug=False)"
   ]
  },
  {
   "cell_type": "code",
   "execution_count": 5,
   "metadata": {},
   "outputs": [
    {
     "name": "stderr",
     "output_type": "stream",
     "text": [
      "100%|███████████████████████████████████████| 4167/4167 [47:35<00:00,  1.46it/s]\n",
      "100%|████████████████████████████████████████████████████████████████████████████████████████████████| 9/9 [00:02<00:00,  4.24it/s]\n"
     ]
    },
    {
     "name": "stdout",
     "output_type": "stream",
     "text": [
      "000 train_loss: 0.2316 val_loss: 0.2222\n"
     ]
    },
    {
     "name": "stderr",
     "output_type": "stream",
     "text": [
      "100%|██████████████████████████████████████████████████████████████████████████████████████████| 4167/4167 [48:05<00:00,  1.44it/s]\n",
      "100%|████████████████████████████████████████████████████████████████████████████████████████████████| 9/9 [00:02<00:00,  4.49it/s]\n"
     ]
    },
    {
     "name": "stdout",
     "output_type": "stream",
     "text": [
      "001 train_loss: 0.2308 val_loss: 0.2231\n"
     ]
    },
    {
     "name": "stderr",
     "output_type": "stream",
     "text": [
      "100%|██████████████████████████████████████████████████████████████████████████████████████████| 4167/4167 [47:51<00:00,  1.45it/s]\n",
      "100%|████████████████████████████████████████████████████████████████████████████████████████████████| 9/9 [00:02<00:00,  4.38it/s]"
     ]
    },
    {
     "name": "stdout",
     "output_type": "stream",
     "text": [
      "002 train_loss: 0.2311 val_loss: 0.2151\n"
     ]
    },
    {
     "name": "stderr",
     "output_type": "stream",
     "text": [
      "\n"
     ]
    }
   ],
   "source": [
    "train_loses = []\n",
    "val_loses = []\n",
    "for epoch in range(3):\n",
    "    train_loss = train_genre_predict(model, genre_classifier, optimizer, train_loader)\n",
    "    val_loss = validation_genre_predict(model, genre_classifier, valid_loader)\n",
    "    print(f\"{epoch:03d} train_loss: {train_loss:0.4f} val_loss: {val_loss:0.4f}\")\n",
    "    train_loses.append(train_loss)\n",
    "    val_loses.append(val_loss)"
   ]
  },
  {
   "cell_type": "code",
   "execution_count": 7,
   "metadata": {},
   "outputs": [
    {
     "name": "stderr",
     "output_type": "stream",
     "text": [
      "2023-03-27 19:46:10 | INFO | torch.distributed.nn.jit.instantiator | Created a temporary directory at /tmp/tmpfqa29ime\n",
      "2023-03-27 19:46:10 | INFO | torch.distributed.nn.jit.instantiator | Writing /tmp/tmpfqa29ime/_remote_module_non_scriptable.py\n"
     ]
    }
   ],
   "source": [
    "import lightning.pytorch as pl\n"
   ]
  },
  {
   "cell_type": "code",
   "execution_count": null,
   "metadata": {},
   "outputs": [],
   "source": [
    "class LitAutoEncoder(pl.LightningModule):\n",
    "    def __init__(self, encoder, decoder):\n",
    "        super().__init__()\n",
    "        self.encoder = encoder\n",
    "        self.decoder = decoder\n",
    "\n",
    "    def training_step(self, batch, batch_idx):\n",
    "        # training_step defines the train loop.\n",
    "        # it is independent of forward\n",
    "        x, y = batch\n",
    "        x = x.view(x.size(0), -1)\n",
    "        z = self.encoder(x)\n",
    "        x_hat = self.decoder(z)\n",
    "        loss = nn.functional.mse_loss(x_hat, x)\n",
    "        # Logging to TensorBoard (if installed) by default\n",
    "        self.log(\"train_loss\", loss)\n",
    "        return loss\n",
    "\n",
    "    def configure_optimizers(self):\n",
    "        optimizer = optim.Adam(self.parameters(), lr=1e-3)\n",
    "        return optimizer\n",
    "\n",
    "\n",
    "# init the autoencoder\n",
    "autoencoder = LitAutoEncoder(encoder, decoder)"
   ]
  },
  {
   "cell_type": "code",
   "execution_count": 4,
   "metadata": {},
   "outputs": [
    {
     "name": "stderr",
     "output_type": "stream",
     "text": [
      "100%|███████████████████████████████████████| 4167/4167 [49:59<00:00,  1.39it/s]\n"
     ]
    }
   ],
   "source": [
    "debug = False\n",
    "data_loader = train_loader\n",
    "\n",
    "model.train()\n",
    "running_loss = 0.0\n",
    "losses = []\n",
    "for i, (batch, genres) in tqdm(enumerate(data_loader, 0), total=len(data_loader), disable=debug):\n",
    "    optimizer.zero_grad()\n",
    "    outputs = model(batch)\n",
    "    \n",
    "    x = outputs[\"x\"]\n",
    "    \n",
    "    # discard where there is inf values \n",
    "    num_inf = torch.sum(torch.isinf(x))\n",
    "    if num_inf:\n",
    "        ignore_samples = torch.where(x.isinf())[1].unique()\n",
    "        filter_samples = [i not in ignore_samples for i in range(x.shape[1])]\n",
    "        x = x[:, filter_samples, :]\n",
    "        genres = [genre for i, genre in enumerate(genres) if i not in ignore_samples]\n",
    "        if debug:\n",
    "            print(f\"num_inf in output of model {num_inf}\")        \n",
    "            print(f\"Num of ignored samples: {len(ignore_samples)}\") \n",
    "            \n",
    "    genre_props = genre_classifier(x)\n",
    "    min_max_prop = genre_props.min().to(\"cpu\").item(), genre_props.max().to(\"cpu\").item() \n",
    "    if np.isnan(min_max_prop[0]) or np.isnan(min_max_prop[1]):\n",
    "        print(\"np.isnan(min_max_prop[0]) or np.isnan(min_max_prop[1])\")\n",
    "        break\n",
    "    genre_loss = torch.nn.BCELoss()(genre_props, get_batch_genre_one_hot(genres, n_genres, \"cuda\"))\n",
    "\n",
    "    wav2vec_features_pen = outputs[\"features_pen\"]\n",
    "    \n",
    "    loss = genre_loss #+ 0.1 * wav2vec_features_pen\n",
    "    loss_item = loss.to(\"cpu\").item() \n",
    "#     if debug:\n",
    "#         print(\"min_max_prop\", min_max_prop)\n",
    "#         print(\"losses\", loss_item, genre_loss.to(\"cpu\").item(), wav2vec_features_pen.to(\"cpu\").item())    \n",
    "\n",
    "    loss.backward()\n",
    "    optimizer.step()\n",
    "    running_loss += loss_item\n",
    "    losses.append(loss_item)\n",
    "\n",
    "#     out_is_inf = torch.isinf(x).any().item()\n",
    "#     if out_is_inf:\n",
    "#         inf_values = torch.isinf(x).sum() \n",
    "#         print(f\"{inf_values} inf values in output\")\n",
    "#         break    \n",
    "\n",
    "#     for name, param in genre_classifier.named_parameters():\n",
    "#         has_nan = torch.isnan(param).any()\n",
    "#         has_inf = torch.isinf(param).any()\n",
    "\n",
    "#         if has_nan or has_inf:\n",
    "#             print(f\"genre_classifier {name} has_nan {has_nan} has_inf {has_inf}.\")\n",
    "#             break        \n",
    "        \n",
    "#     for name, param in model.named_parameters():\n",
    "#         has_nan = torch.isnan(param).any()\n",
    "#         has_inf = torch.isinf(param).any()\n",
    "\n",
    "#         if has_nan or has_inf:\n",
    "#             print(f\"Parameter {name} has_nan {has_nan} has_inf {has_inf}.\")\n",
    "#             break\n",
    "\n",
    "#     if has_nan or has_inf:\n",
    "#         print(\"has_nan or has_inf\")\n",
    "#         break\n",
    "    \n",
    "return running_loss / len(data_loader)"
   ]
  },
  {
   "cell_type": "code",
   "execution_count": 5,
   "metadata": {},
   "outputs": [
    {
     "data": {
      "text/plain": [
       "tensor(0.1988, device='cuda:0', grad_fn=<BinaryCrossEntropyBackward0>)"
      ]
     },
     "execution_count": 5,
     "metadata": {},
     "output_type": "execute_result"
    }
   ],
   "source": [
    "loss"
   ]
  },
  {
   "cell_type": "code",
   "execution_count": null,
   "metadata": {},
   "outputs": [],
   "source": [
    "data_loader = train_loader\n",
    "\n",
    "model.train()\n",
    "running_loss = 0.0\n",
    "losses = []\n",
    "for i, (batch, genres) in tqdm(enumerate(data_loader, 0), total=len(data_loader), disable=True):\n",
    "    pass"
   ]
  },
  {
   "cell_type": "code",
   "execution_count": 4,
   "metadata": {},
   "outputs": [
    {
     "ename": "NameError",
     "evalue": "name 'data_loader' is not defined",
     "output_type": "error",
     "traceback": [
      "\u001b[0;31m---------------------------------------------------------------------------\u001b[0m",
      "\u001b[0;31mNameError\u001b[0m                                 Traceback (most recent call last)",
      "Cell \u001b[0;32mIn[4], line 1\u001b[0m\n\u001b[0;32m----> 1\u001b[0m \u001b[38;5;28;01mfor\u001b[39;00m i, (batch, genres) \u001b[38;5;129;01min\u001b[39;00m tqdm(\u001b[38;5;28menumerate\u001b[39m(\u001b[43mdata_loader\u001b[49m, \u001b[38;5;241m0\u001b[39m), total\u001b[38;5;241m=\u001b[39m\u001b[38;5;28mlen\u001b[39m(data_loader), disable\u001b[38;5;241m=\u001b[39m\u001b[38;5;28;01mTrue\u001b[39;00m):\n\u001b[1;32m      2\u001b[0m     \u001b[38;5;28;01mpass\u001b[39;00m\n",
      "\u001b[0;31mNameError\u001b[0m: name 'data_loader' is not defined"
     ]
    }
   ],
   "source": [
    "for i, (batch, genres) in tqdm(enumerate(data_loader, 0), total=len(data_loader), disable=True):\n",
    "    pass\n"
   ]
  },
  {
   "cell_type": "code",
   "execution_count": null,
   "metadata": {},
   "outputs": [],
   "source": []
  },
  {
   "cell_type": "code",
   "execution_count": 70,
   "metadata": {},
   "outputs": [],
   "source": [
    "# Audio(batch[12].to(\"cpu\").detach().numpy(), rate=44100, autoplay=True)"
   ]
  },
  {
   "cell_type": "code",
   "execution_count": 12,
   "metadata": {},
   "outputs": [],
   "source": [
    "# from matplotlib import colors\n",
    "# cmap = colors.ListedColormap(['red', 'blue', 'green', 'purple',])\n",
    "# bounds = [-2,0,2]\n",
    "# norm = colors.BoundaryNorm(bounds, cmap.N)\n",
    "\n",
    "# fig, ax = plt.subplots()\n",
    "# ax.imshow(outputs[\"x\"][:, 5, :].to(\"cpu\").detach().numpy(), cmap=cmap, norm=norm);\n"
   ]
  },
  {
   "cell_type": "code",
   "execution_count": null,
   "metadata": {},
   "outputs": [],
   "source": [
    "genre_props"
   ]
  },
  {
   "cell_type": "code",
   "execution_count": 21,
   "metadata": {},
   "outputs": [
    {
     "name": "stdout",
     "output_type": "stream",
     "text": [
      "Parameter containing:\n",
      "tensor([[ 1.5653e-02,  1.0166e-02,  1.3567e-02,  ..., -1.4283e-03,\n",
      "         -3.4696e-05, -1.8214e-03],\n",
      "        [ 1.4348e-02,  1.4168e-02,  1.3006e-02,  ..., -2.0981e-04,\n",
      "          1.5393e-03, -1.8361e-03],\n",
      "        [ 7.3778e-03,  1.2378e-02,  8.1439e-03,  ...,  6.5706e-04,\n",
      "         -1.8284e-03,  7.1113e-04],\n",
      "        ...,\n",
      "        [ 1.4650e-02,  1.1347e-02,  1.1165e-02,  ...,  2.6091e-04,\n",
      "         -2.0520e-04,  6.1813e-05],\n",
      "        [ 1.1922e-02,  1.2531e-02,  1.1692e-02,  ...,  9.5847e-04,\n",
      "         -1.7996e-04, -9.5097e-05],\n",
      "        [ 1.3669e-02,  1.0285e-02,  1.3568e-02,  ..., -2.1436e-04,\n",
      "          3.3145e-04,  6.9002e-04]], device='cuda:0', requires_grad=True)\n",
      "min: -0.002 max: 0.022\n",
      "Parameter containing:\n",
      "tensor([-0.2848, -0.3124, -0.2516, -0.2560, -0.3290, -0.3366, -0.3669, -0.2745,\n",
      "        -0.3922, -0.3738, -0.3439, -0.3426, -0.3462, -0.3399, -0.4030, -0.2628,\n",
      "        -0.2674, -0.3926, -0.3747, -0.2488, -0.3014, -0.3583, -0.2426, -0.2944,\n",
      "        -0.2869, -0.3600, -0.4023, -0.2931, -0.3270, -0.3985, -0.2635, -0.3090,\n",
      "        -0.3772, -0.2930, -0.3478, -0.3669, -0.2993, -0.3471, -0.3927, -0.3647,\n",
      "        -0.3334, -0.3838, -0.3491, -0.3696, -0.3818, -0.3390, -0.3414, -0.3257,\n",
      "        -0.3418, -0.3287], device='cuda:0', requires_grad=True)\n",
      "min: -0.403 max: -0.243\n"
     ]
    }
   ],
   "source": [
    "for name, param in genre_classifier.named_parameters():\n",
    "    print(param)\n",
    "    min_max = (torch.min(param).to(\"cpu\").detach().item(), torch.max(param).to(\"cpu\").detach().item())\n",
    "    print(f\"min: {min_max[0]:,.3f} max: {min_max[1]:,.3f}\")\n"
   ]
  },
  {
   "cell_type": "code",
   "execution_count": 82,
   "metadata": {},
   "outputs": [],
   "source": [
    "\n",
    "\n"
   ]
  },
  {
   "cell_type": "code",
   "execution_count": 83,
   "metadata": {},
   "outputs": [],
   "source": [
    "music_cnn = MusicCNN(50)"
   ]
  },
  {
   "cell_type": "code",
   "execution_count": null,
   "metadata": {},
   "outputs": [],
   "source": []
  },
  {
   "cell_type": "code",
   "execution_count": 17,
   "metadata": {},
   "outputs": [
    {
     "data": {
      "text/plain": [
       "torch.Size([384])"
      ]
     },
     "execution_count": 17,
     "metadata": {},
     "output_type": "execute_result"
    }
   ],
   "source": [
    "param.size()"
   ]
  },
  {
   "cell_type": "code",
   "execution_count": null,
   "metadata": {},
   "outputs": [],
   "source": [
    "for name, param in genre_classifier.named_parameters():"
   ]
  },
  {
   "cell_type": "markdown",
   "metadata": {},
   "source": [
    "### Test 2 -- with small update"
   ]
  },
  {
   "cell_type": "code",
   "execution_count": 4,
   "metadata": {},
   "outputs": [
    {
     "name": "stderr",
     "output_type": "stream",
     "text": [
      "100%|████████████████████████████████████████████████████████| 8334/8334 [54:23<00:00,  2.55it/s]\n",
      "100%|████████████████████████████████████████████████████████████| 17/17 [00:04<00:00,  4.05it/s]\n"
     ]
    },
    {
     "name": "stdout",
     "output_type": "stream",
     "text": [
      "000 train_loss: 0.0000 val_loss: 0.0000\n"
     ]
    },
    {
     "name": "stderr",
     "output_type": "stream",
     "text": [
      "100%|████████████████████████████████████████████████████████| 8334/8334 [54:39<00:00,  2.54it/s]\n",
      "100%|████████████████████████████████████████████████████████████| 17/17 [00:04<00:00,  4.10it/s]\n"
     ]
    },
    {
     "name": "stdout",
     "output_type": "stream",
     "text": [
      "001 train_loss: 0.0000 val_loss: 0.0000\n"
     ]
    },
    {
     "name": "stderr",
     "output_type": "stream",
     "text": [
      "100%|████████████████████████████████████████████████████████| 8334/8334 [54:43<00:00,  2.54it/s]\n",
      "100%|████████████████████████████████████████████████████████████| 17/17 [00:04<00:00,  4.10it/s]"
     ]
    },
    {
     "name": "stdout",
     "output_type": "stream",
     "text": [
      "002 train_loss: 0.0000 val_loss: 0.0000\n"
     ]
    },
    {
     "name": "stderr",
     "output_type": "stream",
     "text": [
      "\n"
     ]
    }
   ],
   "source": [
    "train_loses = []\n",
    "val_loses = []\n",
    "for epoch in range(3):\n",
    "    train_loss = train(model, optimizer, train_loader)\n",
    "    val_loss = validation(model, valid_loader)\n",
    "    print(f\"{epoch:03d} train_loss: {train_loss:0.4f} val_loss: {val_loss:0.4f}\")\n",
    "    train_loses.append(train_loss)\n",
    "    val_loses.append(val_loss)"
   ]
  },
  {
   "cell_type": "code",
   "execution_count": null,
   "metadata": {},
   "outputs": [],
   "source": [
    "plt.plot(train_loses, label=\"train_loses\");\n",
    "plt.plot(val_loses, label=\"val_loses\");\n",
    "plt.legend();"
   ]
  },
  {
   "cell_type": "markdown",
   "metadata": {},
   "source": [
    "### Test 1 -- diverging"
   ]
  },
  {
   "cell_type": "code",
   "execution_count": 5,
   "metadata": {},
   "outputs": [
    {
     "name": "stderr",
     "output_type": "stream",
     "text": [
      "100%|████████████████████████████████████████████████████████| 8334/8334 [54:19<00:00,  2.56it/s]\n",
      "100%|████████████████████████████████████████████████████████████| 17/17 [00:04<00:00,  4.10it/s]\n"
     ]
    },
    {
     "name": "stdout",
     "output_type": "stream",
     "text": [
      "000 train_loss: 0.0000 val_loss: 0.0000\n"
     ]
    },
    {
     "name": "stderr",
     "output_type": "stream",
     "text": [
      "100%|████████████████████████████████████████████████████████| 8334/8334 [54:35<00:00,  2.54it/s]\n",
      "100%|████████████████████████████████████████████████████████████| 17/17 [00:04<00:00,  4.11it/s]\n"
     ]
    },
    {
     "name": "stdout",
     "output_type": "stream",
     "text": [
      "001 train_loss: 0.0000 val_loss: 0.0000\n"
     ]
    },
    {
     "name": "stderr",
     "output_type": "stream",
     "text": [
      "100%|████████████████████████████████████████████████████████| 8334/8334 [54:34<00:00,  2.55it/s]\n",
      "100%|████████████████████████████████████████████████████████████| 17/17 [00:04<00:00,  4.11it/s]\n"
     ]
    },
    {
     "name": "stdout",
     "output_type": "stream",
     "text": [
      "002 train_loss: 0.0000 val_loss: 0.0000\n"
     ]
    },
    {
     "name": "stderr",
     "output_type": "stream",
     "text": [
      "100%|████████████████████████████████████████████████████████| 8334/8334 [54:29<00:00,  2.55it/s]\n",
      "100%|████████████████████████████████████████████████████████████| 17/17 [00:04<00:00,  4.09it/s]\n"
     ]
    },
    {
     "name": "stdout",
     "output_type": "stream",
     "text": [
      "003 train_loss: 0.0000 val_loss: 0.0000\n"
     ]
    },
    {
     "name": "stderr",
     "output_type": "stream",
     "text": [
      "100%|████████████████████████████████████████████████████████| 8334/8334 [54:29<00:00,  2.55it/s]\n",
      "100%|████████████████████████████████████████████████████████████| 17/17 [00:04<00:00,  4.05it/s]"
     ]
    },
    {
     "name": "stdout",
     "output_type": "stream",
     "text": [
      "004 train_loss: 0.0000 val_loss: 0.0000\n"
     ]
    },
    {
     "name": "stderr",
     "output_type": "stream",
     "text": [
      "\n"
     ]
    }
   ],
   "source": [
    "train_loses = []\n",
    "val_loses = []\n",
    "for epoch in range(5):\n",
    "    train_loss = train(model, optimizer, train_loader)\n",
    "    val_loss = validation(model, valid_loader)\n",
    "    print(f\"{epoch:03d} train_loss: {train_loss:0.4f} val_loss: {val_loss:0.4f}\")\n",
    "    train_loses.append(train_loss)\n",
    "    val_loses.append(val_loss)"
   ]
  },
  {
   "cell_type": "code",
   "execution_count": null,
   "metadata": {},
   "outputs": [],
   "source": []
  },
  {
   "cell_type": "code",
   "execution_count": null,
   "metadata": {},
   "outputs": [],
   "source": [
    "%debug"
   ]
  },
  {
   "cell_type": "markdown",
   "metadata": {},
   "source": [
    "#### Scratchpad"
   ]
  },
  {
   "cell_type": "code",
   "execution_count": 49,
   "metadata": {},
   "outputs": [],
   "source": [
    "for epoch in range(10):\n",
    "    train_loss = train(model, optimizer, criterion, train_loader)\n",
    "    print(f\"Epoch {epoch+1}, train loss: {train_loss:.3f}\")\n"
   ]
  },
  {
   "cell_type": "code",
   "execution_count": 66,
   "metadata": {},
   "outputs": [],
   "source": [
    "for i, batch in enumerate(top50_dataloader):\n",
    "    break"
   ]
  },
  {
   "cell_type": "code",
   "execution_count": null,
   "metadata": {},
   "outputs": [],
   "source": []
  },
  {
   "cell_type": "code",
   "execution_count": 18,
   "metadata": {},
   "outputs": [],
   "source": [
    "out = model.forward(sample_bs)"
   ]
  },
  {
   "cell_type": "code",
   "execution_count": 160,
   "metadata": {},
   "outputs": [
    {
     "data": {
      "text/plain": [
       "torch.Size([32, 120000])"
      ]
     },
     "execution_count": 160,
     "metadata": {},
     "output_type": "execute_result"
    }
   ],
   "source": [
    "sample_bs.shape"
   ]
  },
  {
   "cell_type": "code",
   "execution_count": 144,
   "metadata": {},
   "outputs": [
    {
     "data": {
      "text/plain": [
       "torch.Size([2, 273024])"
      ]
     },
     "execution_count": 144,
     "metadata": {},
     "output_type": "execute_result"
    }
   ],
   "source": [
    "\n",
    "d.shape"
   ]
  },
  {
   "cell_type": "code",
   "execution_count": null,
   "metadata": {},
   "outputs": [],
   "source": []
  },
  {
   "cell_type": "code",
   "execution_count": 4,
   "metadata": {},
   "outputs": [
    {
     "name": "stderr",
     "output_type": "stream",
     "text": [
      "  0%|                                                                     | 0/17 [00:02<?, ?it/s]\n"
     ]
    }
   ],
   "source": [
    "model.eval()\n",
    "running_loss = 0.0\n",
    "for i, (batch, genres) in tqdm(enumerate(valid_loader, 0), total=len(valid_loader)):\n",
    "    outputs = model(batch)\n",
    "    break"
   ]
  },
  {
   "cell_type": "code",
   "execution_count": 18,
   "metadata": {},
   "outputs": [
    {
     "data": {
      "text/plain": [
       "torch.Size([101, 12, 120])"
      ]
     },
     "execution_count": 18,
     "metadata": {},
     "output_type": "execute_result"
    }
   ],
   "source": [
    "outputs['x'].shape"
   ]
  },
  {
   "cell_type": "code",
   "execution_count": 10,
   "metadata": {},
   "outputs": [
    {
     "data": {
      "text/plain": [
       "<function __main__.music_collate_fn_wrap.<locals>.music_collate_fn(x)>"
      ]
     },
     "execution_count": 10,
     "metadata": {},
     "output_type": "execute_result"
    }
   ],
   "source": [
    "batch"
   ]
  }
 ],
 "metadata": {
  "kernelspec": {
   "display_name": "mugen_ml",
   "language": "python",
   "name": "mugen_ml"
  },
  "language_info": {
   "codemirror_mode": {
    "name": "ipython",
    "version": 3
   },
   "file_extension": ".py",
   "mimetype": "text/x-python",
   "name": "python",
   "nbconvert_exporter": "python",
   "pygments_lexer": "ipython3",
   "version": "3.9.16"
  }
 },
 "nbformat": 4,
 "nbformat_minor": 4
}
