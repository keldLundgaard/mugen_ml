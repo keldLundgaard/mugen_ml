{
 "cells": [
  {
   "cell_type": "code",
   "execution_count": 1,
   "id": "11b04db6-b527-4a35-ba97-31c4427ef93c",
   "metadata": {
    "tags": []
   },
   "outputs": [],
   "source": [
    "%matplotlib inline\n",
    "import time \n",
    "import random\n",
    "import pickle\n",
    "import os\n",
    "import sys\n",
    "from pathlib import Path\n",
    "sys.path.append(\"../src\")\n",
    "sys.path.append(\"../webapp\")\n",
    "\n",
    "from IPython.display import Audio\n",
    "from tqdm import tqdm, trange\n",
    "import pandas as pd\n",
    "import torch \n",
    "import miniaudio\n",
    "\n",
    "%config InlineBackend.figure_format = 'retina'\n",
    "\n",
    "%load_ext autoreload\n",
    "%reload_ext autoreload"
   ]
  },
  {
   "cell_type": "code",
   "execution_count": 4,
   "id": "45e9e4cb-1f82-49fd-b26f-d6713a1086b8",
   "metadata": {
    "tags": []
   },
   "outputs": [],
   "source": [
    "DATA_DIR = \"/n4Ta/sc_webapp_data/\"\n",
    "\n",
    "# USE_SAMPLE_DATA:\n",
    "# SONGS_DATA_DF_PATH = DATA_DIR + \"df_with_mp3_info_100k.tsv.gz\"\n",
    "# SONGS_TFIDF_DICT_PATH = DATA_DIR + \"tfidf_feats_100k.pckl\"\n",
    "\n",
    "# SONGS_DATA_DF_PATH = DATA_DIR + \"df_with_mp3_info.tsv.gz\"\n",
    "# SONGS_TFIDF_DICT_PATH = DATA_DIR + \"tfidf_feats.pckl\"\n"
   ]
  },
  {
   "cell_type": "markdown",
   "id": "01b7920e-aaaa-416f-9a34-a8669c5ed0b9",
   "metadata": {},
   "source": [
    "## Be careful about using"
   ]
  },
  {
   "cell_type": "code",
   "execution_count": 5,
   "id": "089a134d-3601-43f9-bb49-250b57ff3001",
   "metadata": {
    "tags": []
   },
   "outputs": [],
   "source": [
    "all_music_info_df = pd.read_csv(\n",
    "    SONGS_DATA_DF_PATH,\n",
    "    compression=\"gzip\",\n",
    "    sep=\"\\t\",\n",
    "    low_memory=False,\n",
    ")\n",
    "all_music_info_df[\"sc_user\"] = all_music_info_df[\"paths\"].apply(lambda x: str(x).split(\"/files/\")[1].split(\"/\")[0])\n",
    "all_music_info_df.to_csv(SONGS_DATA_DF_PATH, sep='\\t', compression=\"gzip\", index=False)"
   ]
  },
  {
   "cell_type": "code",
   "execution_count": 8,
   "id": "46616c04-d7f2-4855-bab2-48592ec684e5",
   "metadata": {
    "tags": []
   },
   "outputs": [],
   "source": []
  }
 ],
 "metadata": {
  "kernelspec": {
   "display_name": "sc_scrape",
   "language": "python",
   "name": "sc_scrape"
  },
  "language_info": {
   "codemirror_mode": {
    "name": "ipython",
    "version": 3
   },
   "file_extension": ".py",
   "mimetype": "text/x-python",
   "name": "python",
   "nbconvert_exporter": "python",
   "pygments_lexer": "ipython3",
   "version": "3.10.10"
  }
 },
 "nbformat": 4,
 "nbformat_minor": 5
}
