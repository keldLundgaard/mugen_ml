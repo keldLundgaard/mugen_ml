{
 "cells": [
  {
   "cell_type": "code",
   "execution_count": 1,
   "id": "a7cfc9ba-335d-41b7-a452-04c26a1d60e0",
   "metadata": {
    "tags": []
   },
   "outputs": [
    {
     "name": "stdout",
     "output_type": "stream",
     "text": [
      "%pylab is deprecated, use %matplotlib inline and import the required libraries.\n",
      "Populating the interactive namespace from numpy and matplotlib\n"
     ]
    }
   ],
   "source": [
    "%pylab inline\n",
    "import time \n",
    "import random\n",
    "import pickle\n",
    "import os\n",
    "import sys\n",
    "from functools import reduce\n",
    "import numba\n",
    "\n",
    "from pathlib import Path\n",
    "sys.path.append(\"../src\")\n",
    "\n",
    "from IPython.display import Audio\n",
    "from tqdm import tqdm, trange\n",
    "import pandas as pd\n",
    "import torch \n",
    "import miniaudio\n",
    "\n",
    "%config InlineBackend.figure_format = 'retina'\n",
    "\n",
    "%load_ext autoreload\n",
    "%aimport -auto"
   ]
  },
  {
   "cell_type": "code",
   "execution_count": 107,
   "id": "7ee181a3-4d3e-4a0f-ad9e-cfb78c559ec4",
   "metadata": {
    "tags": []
   },
   "outputs": [],
   "source": [
    "import os\n",
    "import eyed3\n",
    "import pandas as pd\n",
    "\n",
    "DATA_DIR = \"/n4Ta/sc_webapp_data/\""
   ]
  },
  {
   "cell_type": "code",
   "execution_count": 113,
   "id": "0b300899-e3eb-4e01-8a50-98e752ed34b7",
   "metadata": {
    "tags": []
   },
   "outputs": [],
   "source": [
    "fname = \"mp3_r32_info_dct.pcl\"\n",
    "path = DATA_DIR + fname\n",
    "if os.path.exists(path):\n",
    "    mp3_r32_info_dct = pickle.load(open(path, \"rb\"))\n",
    "    mp3_files = mp3_r32_info_dct[\"filepaths\"]\n",
    "else:\n",
    "    user_path = \"/r32Ta/soundcloud_music/files/\"\n",
    "    mp3_files = []\n",
    "    for root, dirs, files in os.walk(user_path):\n",
    "        for file in files:\n",
    "            if file.endswith(\".mp3\"):\n",
    "                mp3_files.append(os.path.join(root, file))\n",
    "    mp3_r32_info_dct = {\"filepaths\": mp3_files}\n",
    "    pickle.dump(mp3_r32_info_dct, open(path, \"wb\"))"
   ]
  },
  {
   "cell_type": "code",
   "execution_count": 77,
   "id": "0f4d381d-0d63-4d09-8ada-b6a5c62a0f72",
   "metadata": {
    "tags": []
   },
   "outputs": [],
   "source": [
    "eyed3.log.setLevel(\"ERROR\")\n",
    "def extract_mp3_info(path):\n",
    "    try:\n",
    "        audiofile = eyed3.load(path)\n",
    "        \n",
    "        if audiofile is not None and audiofile.tag is not None:\n",
    "            genre_dct = {}\n",
    "            if audiofile.tag.genre is None:\n",
    "                genre_dct = {\n",
    "                    'genre': None,\n",
    "                    'genre_id': None,                \n",
    "                }\n",
    "                \n",
    "            else:\n",
    "                genre_dct = {\n",
    "                    'genre': audiofile.tag.genre._name,\n",
    "                    'genre_id': audiofile.tag.genre._id,                \n",
    "                }\n",
    "                \n",
    "            \n",
    "            return pd.Series(\n",
    "                {\n",
    "                    **{\n",
    "                'title': audiofile.tag.title,\n",
    "                'artist': audiofile.tag.artist,\n",
    "                'album': audiofile.tag.album,\n",
    "                'album artist': audiofile.tag.album_artist,\n",
    "                'track number': audiofile.tag.track_num[0] if audiofile.tag.track_num else None,\n",
    "                'release year': str(audiofile.tag.getBestDate())[:4] if audiofile.tag.getBestDate() else None,\n",
    "                'duration (seconds)': audiofile.info.time_secs if audiofile.info else None,\n",
    "                'bitrate (kbps)': audiofile.info.bit_rate[1] if audiofile.info and audiofile.info.bit_rate else None\n",
    "                },\n",
    "                    **genre_dct\n",
    "                \n",
    "                })\n",
    "    except Exception as e:\n",
    "        print(f\"Error processing {path}: {e}\")\n",
    "    return pd.Series({\n",
    "        'title': None, 'artist': None, 'album': None, 'album artist': None,\n",
    "        'track number': None, 'genre': None, 'genre_id': None, 'release year': None, 'duration (seconds)': None,\n",
    "        'bitrate (kbps)': None\n",
    "    })\n"
   ]
  },
  {
   "cell_type": "code",
   "execution_count": 101,
   "id": "85357de1-5aab-4d24-a774-ef64eebfa685",
   "metadata": {
    "tags": []
   },
   "outputs": [
    {
     "name": "stderr",
     "output_type": "stream",
     "text": [
      "100%|██████████████████████████████████████████████████████████████████████████████████████████████████████████████████████████████████████████| 1000/1000 [00:00<00:00, 1041.27it/s]\n"
     ]
    }
   ],
   "source": [
    "info_path = DATA_DIR+\"df_with_mp3_info.tsv.gz\"\n",
    "if os.path.exists(info_path):\n",
    "    w_info_df = pd.read_csv(path, sep=\"\\t\", compression=\"gzip\")\n",
    "else\n",
    "    df = pd.DataFrame.from_dict({'paths': mp3_files}).astype({\"paths\": \"string[pyarrow]\"})\n",
    "    df[\"filename\"]=df[\"paths\"].apply(lambda x: x.split(\"/\")[-1].split(\".mp3\")[0])\n",
    "\n",
    "    proc_df = df.head(1000)\n",
    "    out = []\n",
    "    for i, path in tqdm(enumerate(proc_df[\"paths\"].values), total=len(proc_df)):\n",
    "        out.append(extract_mp3_info(path))\n",
    "    mp3_info_df =  pd.DataFrame(out)    \n",
    "    w_info_df = pd.concat([proc_df, mp3_info_df], axis=1)\n",
    "    w_info_df.to_csv(info_path , sep=\"\\t\", compression=\"gzip\", index=False)"
   ]
  },
  {
   "cell_type": "code",
   "execution_count": 127,
   "id": "7e97c5ac-79d6-4b6f-aa51-d019f057cb95",
   "metadata": {
    "tags": []
   },
   "outputs": [
    {
     "data": {
      "text/plain": [
       "Index(['paths', 'filename', 'title', 'artist', 'album', 'album artist',\n",
       "       'track number', 'release year', 'duration (seconds)', 'bitrate (kbps)',\n",
       "       'genre', 'genre_id'],\n",
       "      dtype='object')"
      ]
     },
     "execution_count": 127,
     "metadata": {},
     "output_type": "execute_result"
    }
   ],
   "source": [
    "w_info_df.columns"
   ]
  },
  {
   "cell_type": "code",
   "execution_count": 128,
   "id": "93239bb4-47d4-4216-b97c-8c23530fcd93",
   "metadata": {
    "tags": []
   },
   "outputs": [
    {
     "data": {
      "text/html": [
       "<div>\n",
       "<style scoped>\n",
       "    .dataframe tbody tr th:only-of-type {\n",
       "        vertical-align: middle;\n",
       "    }\n",
       "\n",
       "    .dataframe tbody tr th {\n",
       "        vertical-align: top;\n",
       "    }\n",
       "\n",
       "    .dataframe thead th {\n",
       "        text-align: right;\n",
       "    }\n",
       "</style>\n",
       "<table border=\"1\" class=\"dataframe\">\n",
       "  <thead>\n",
       "    <tr style=\"text-align: right;\">\n",
       "      <th></th>\n",
       "      <th>paths</th>\n",
       "      <th>filename</th>\n",
       "      <th>title</th>\n",
       "      <th>artist</th>\n",
       "      <th>album</th>\n",
       "      <th>album artist</th>\n",
       "      <th>track number</th>\n",
       "      <th>release year</th>\n",
       "      <th>duration (seconds)</th>\n",
       "      <th>bitrate (kbps)</th>\n",
       "      <th>genre</th>\n",
       "      <th>genre_id</th>\n",
       "    </tr>\n",
       "  </thead>\n",
       "  <tbody>\n",
       "    <tr>\n",
       "      <th>0</th>\n",
       "      <td>/r32Ta/soundcloud_music/files/user-337026238/C...</td>\n",
       "      <td>Crown Imperial, by William Walton</td>\n",
       "      <td>Crown Imperial, by William Walton</td>\n",
       "      <td>Harrogate Symphony Orchestra</td>\n",
       "      <td>NaN</td>\n",
       "      <td>NaN</td>\n",
       "      <td>NaN</td>\n",
       "      <td>2019.0</td>\n",
       "      <td>385.87</td>\n",
       "      <td>128.0</td>\n",
       "      <td>Classical</td>\n",
       "      <td>32.0</td>\n",
       "    </tr>\n",
       "    <tr>\n",
       "      <th>1</th>\n",
       "      <td>/r32Ta/soundcloud_music/files/user-337026238/S...</td>\n",
       "      <td>Symphony No.7 in A - Beethoven</td>\n",
       "      <td>Symphony No.7 in A - Beethoven</td>\n",
       "      <td>Harrogate Symphony Orchestra</td>\n",
       "      <td>NaN</td>\n",
       "      <td>NaN</td>\n",
       "      <td>NaN</td>\n",
       "      <td>2022.0</td>\n",
       "      <td>2327.26</td>\n",
       "      <td>128.0</td>\n",
       "      <td>Classical</td>\n",
       "      <td>32.0</td>\n",
       "    </tr>\n",
       "    <tr>\n",
       "      <th>2</th>\n",
       "      <td>/r32Ta/soundcloud_music/files/user-337026238/H...</td>\n",
       "      <td>HSO 2019 Ripon Cathedral Concert(2nd Half)</td>\n",
       "      <td>HSO 2019 Ripon Cathedral Concert(2nd Half)</td>\n",
       "      <td>Harrogate Symphony Orchestra</td>\n",
       "      <td>NaN</td>\n",
       "      <td>NaN</td>\n",
       "      <td>NaN</td>\n",
       "      <td>2019.0</td>\n",
       "      <td>2581.49</td>\n",
       "      <td>128.0</td>\n",
       "      <td>Classical</td>\n",
       "      <td>32.0</td>\n",
       "    </tr>\n",
       "    <tr>\n",
       "      <th>3</th>\n",
       "      <td>/r32Ta/soundcloud_music/files/user-337026238/F...</td>\n",
       "      <td>Fantasia On British Sea Songs, by Henry Wood  ...</td>\n",
       "      <td>Fantasia On British Sea Songs, by Henry Wood /...</td>\n",
       "      <td>Harrogate Symphony Orchestra</td>\n",
       "      <td>NaN</td>\n",
       "      <td>NaN</td>\n",
       "      <td>NaN</td>\n",
       "      <td>2019.0</td>\n",
       "      <td>404.12</td>\n",
       "      <td>128.0</td>\n",
       "      <td>Classical</td>\n",
       "      <td>32.0</td>\n",
       "    </tr>\n",
       "    <tr>\n",
       "      <th>4</th>\n",
       "      <td>/r32Ta/soundcloud_music/files/user-337026238/P...</td>\n",
       "      <td>Pomp &amp; Circumstance March No. 1, Edward Elgar</td>\n",
       "      <td>Pomp &amp; Circumstance March No. 1, Edward Elgar</td>\n",
       "      <td>Harrogate Symphony Orchestra</td>\n",
       "      <td>NaN</td>\n",
       "      <td>NaN</td>\n",
       "      <td>NaN</td>\n",
       "      <td>2019.0</td>\n",
       "      <td>388.62</td>\n",
       "      <td>128.0</td>\n",
       "      <td>Classical</td>\n",
       "      <td>32.0</td>\n",
       "    </tr>\n",
       "  </tbody>\n",
       "</table>\n",
       "</div>"
      ],
      "text/plain": [
       "                                               paths  \\\n",
       "0  /r32Ta/soundcloud_music/files/user-337026238/C...   \n",
       "1  /r32Ta/soundcloud_music/files/user-337026238/S...   \n",
       "2  /r32Ta/soundcloud_music/files/user-337026238/H...   \n",
       "3  /r32Ta/soundcloud_music/files/user-337026238/F...   \n",
       "4  /r32Ta/soundcloud_music/files/user-337026238/P...   \n",
       "\n",
       "                                            filename  \\\n",
       "0                  Crown Imperial, by William Walton   \n",
       "1                     Symphony No.7 in A - Beethoven   \n",
       "2         HSO 2019 Ripon Cathedral Concert(2nd Half)   \n",
       "3  Fantasia On British Sea Songs, by Henry Wood  ...   \n",
       "4      Pomp & Circumstance March No. 1, Edward Elgar   \n",
       "\n",
       "                                               title  \\\n",
       "0                  Crown Imperial, by William Walton   \n",
       "1                     Symphony No.7 in A - Beethoven   \n",
       "2         HSO 2019 Ripon Cathedral Concert(2nd Half)   \n",
       "3  Fantasia On British Sea Songs, by Henry Wood /...   \n",
       "4      Pomp & Circumstance March No. 1, Edward Elgar   \n",
       "\n",
       "                         artist album  album artist  track number  \\\n",
       "0  Harrogate Symphony Orchestra   NaN           NaN           NaN   \n",
       "1  Harrogate Symphony Orchestra   NaN           NaN           NaN   \n",
       "2  Harrogate Symphony Orchestra   NaN           NaN           NaN   \n",
       "3  Harrogate Symphony Orchestra   NaN           NaN           NaN   \n",
       "4  Harrogate Symphony Orchestra   NaN           NaN           NaN   \n",
       "\n",
       "   release year  duration (seconds)  bitrate (kbps)      genre  genre_id  \n",
       "0        2019.0              385.87           128.0  Classical      32.0  \n",
       "1        2022.0             2327.26           128.0  Classical      32.0  \n",
       "2        2019.0             2581.49           128.0  Classical      32.0  \n",
       "3        2019.0              404.12           128.0  Classical      32.0  \n",
       "4        2019.0              388.62           128.0  Classical      32.0  "
      ]
     },
     "execution_count": 128,
     "metadata": {},
     "output_type": "execute_result"
    }
   ],
   "source": [
    "w_info_df.head()"
   ]
  },
  {
   "cell_type": "code",
   "execution_count": 140,
   "id": "365de68a-dd51-4dec-b87f-176e6c9df07c",
   "metadata": {
    "tags": []
   },
   "outputs": [],
   "source": [
    "from sklearn.feature_extraction.text import TfidfVectorizer\n",
    "\n",
    "tfidf_path = DATA_DIR + \"tfidf_feats.pckl\"\n",
    "if os.path.exists(tfidf_path):\n",
    "    tfidf_features = pickle.load(open(tfidf_path, 'rb'))\n",
    "else:\n",
    "    tfidf_features = dict()\n",
    "    for k in [\"filename\", \"title\", \"artist\"]:\n",
    "        corpus = w_info_df[k].fillna(\"\").values\n",
    "        vectorizer = TfidfVectorizer()\n",
    "        tfidf_features[\"X_\"+k] = vectorizer.fit_transform(corpus)\n",
    "        tfidf_features[\"vectorizer_\"+k] = vectorizer\n",
    "    pickle.dump(tfidf_features, open(tfidf_path, 'wb'))    "
   ]
  },
  {
   "cell_type": "code",
   "execution_count": 138,
   "id": "50c517a6-cd05-41e5-a856-7f487d313d12",
   "metadata": {
    "tags": []
   },
   "outputs": [],
   "source": []
  },
  {
   "cell_type": "code",
   "execution_count": 141,
   "id": "c3fd9806-0bcd-4d4b-8c09-72157132f5a3",
   "metadata": {
    "tags": []
   },
   "outputs": [
    {
     "data": {
      "text/plain": [
       "'vienna teng'"
      ]
     },
     "execution_count": 141,
     "metadata": {},
     "output_type": "execute_result"
    }
   ],
   "source": []
  },
  {
   "cell_type": "code",
   "execution_count": 149,
   "id": "87affc8d-9d77-4bd6-b8f7-ec8034d670e2",
   "metadata": {
    "tags": []
   },
   "outputs": [],
   "source": [
    "c = \"artist\"\n",
    "k = 20\n",
    "x_search = tfidf_features[\"vectorizer_\" + c].transform([\"vienna teng\"])\n",
    "out = np.array((tfidf_features[\"X_\" + c].dot(x_search.T).T.todense()))[0]\n",
    "idx_top_k = np.argsort(out)[::-1][:k]"
   ]
  },
  {
   "cell_type": "markdown",
   "id": "f92fcf2e-ee5e-4d55-8910-8e18d1c48253",
   "metadata": {},
   "source": [
    "Try to use LLM to sort in the best way here. Call Mistral/Mixtral --> Make prompt to create query with info. --> ask to sort in a way that makes the most sense."
   ]
  },
  {
   "cell_type": "code",
   "execution_count": 151,
   "id": "b77cd08b-9ba6-449a-8a98-ea2ba0d073e3",
   "metadata": {
    "tags": []
   },
   "outputs": [
    {
     "data": {
      "text/html": [
       "<div>\n",
       "<style scoped>\n",
       "    .dataframe tbody tr th:only-of-type {\n",
       "        vertical-align: middle;\n",
       "    }\n",
       "\n",
       "    .dataframe tbody tr th {\n",
       "        vertical-align: top;\n",
       "    }\n",
       "\n",
       "    .dataframe thead th {\n",
       "        text-align: right;\n",
       "    }\n",
       "</style>\n",
       "<table border=\"1\" class=\"dataframe\">\n",
       "  <thead>\n",
       "    <tr style=\"text-align: right;\">\n",
       "      <th></th>\n",
       "      <th>paths</th>\n",
       "      <th>filename</th>\n",
       "      <th>title</th>\n",
       "      <th>artist</th>\n",
       "      <th>album</th>\n",
       "      <th>album artist</th>\n",
       "      <th>track number</th>\n",
       "      <th>release year</th>\n",
       "      <th>duration (seconds)</th>\n",
       "      <th>bitrate (kbps)</th>\n",
       "      <th>genre</th>\n",
       "      <th>genre_id</th>\n",
       "    </tr>\n",
       "  </thead>\n",
       "  <tbody>\n",
       "    <tr>\n",
       "      <th>2112244</th>\n",
       "      <td>/r32Ta/soundcloud_music/files/nightowlcollecti...</td>\n",
       "      <td>workstudychill - Vol. 2_265_4540</td>\n",
       "      <td>4540</td>\n",
       "      <td>Vienna</td>\n",
       "      <td>work/study/chill - Vol. 2</td>\n",
       "      <td>NaN</td>\n",
       "      <td>265.0</td>\n",
       "      <td>2019.0</td>\n",
       "      <td>124.18</td>\n",
       "      <td>128.0</td>\n",
       "      <td>beat music</td>\n",
       "      <td>NaN</td>\n",
       "    </tr>\n",
       "    <tr>\n",
       "      <th>2112639</th>\n",
       "      <td>/r32Ta/soundcloud_music/files/nightowlcollecti...</td>\n",
       "      <td>workstudychill - Vol. 2_266_cortez</td>\n",
       "      <td>cortez</td>\n",
       "      <td>Vienna</td>\n",
       "      <td>work/study/chill - Vol. 2</td>\n",
       "      <td>NaN</td>\n",
       "      <td>266.0</td>\n",
       "      <td>2019.0</td>\n",
       "      <td>85.48</td>\n",
       "      <td>128.0</td>\n",
       "      <td>NaN</td>\n",
       "      <td>NaN</td>\n",
       "    </tr>\n",
       "    <tr>\n",
       "      <th>2113004</th>\n",
       "      <td>/r32Ta/soundcloud_music/files/nightowlcollecti...</td>\n",
       "      <td>workstudychill - Vol. 2_267_Demolition</td>\n",
       "      <td>Demolition</td>\n",
       "      <td>Vienna</td>\n",
       "      <td>work/study/chill - Vol. 2</td>\n",
       "      <td>NaN</td>\n",
       "      <td>267.0</td>\n",
       "      <td>2019.0</td>\n",
       "      <td>130.91</td>\n",
       "      <td>128.0</td>\n",
       "      <td>beat music</td>\n",
       "      <td>NaN</td>\n",
       "    </tr>\n",
       "    <tr>\n",
       "      <th>2112959</th>\n",
       "      <td>/r32Ta/soundcloud_music/files/nightowlcollecti...</td>\n",
       "      <td>workstudychill - Vol. 2_268_Tea (visuals in de...</td>\n",
       "      <td>Tea (visuals in description)</td>\n",
       "      <td>Vienna</td>\n",
       "      <td>work/study/chill - Vol. 2</td>\n",
       "      <td>NaN</td>\n",
       "      <td>268.0</td>\n",
       "      <td>2019.0</td>\n",
       "      <td>109.41</td>\n",
       "      <td>128.0</td>\n",
       "      <td>beat music</td>\n",
       "      <td>NaN</td>\n",
       "    </tr>\n",
       "    <tr>\n",
       "      <th>2112795</th>\n",
       "      <td>/r32Ta/soundcloud_music/files/nightowlcollecti...</td>\n",
       "      <td>workstudychill - Vol. 2_270_printer</td>\n",
       "      <td>printer</td>\n",
       "      <td>Vienna</td>\n",
       "      <td>work/study/chill - Vol. 2</td>\n",
       "      <td>NaN</td>\n",
       "      <td>270.0</td>\n",
       "      <td>2019.0</td>\n",
       "      <td>85.43</td>\n",
       "      <td>128.0</td>\n",
       "      <td>beat music</td>\n",
       "      <td>NaN</td>\n",
       "    </tr>\n",
       "    <tr>\n",
       "      <th>1570984</th>\n",
       "      <td>/r32Ta/soundcloud_music/files/vienna-teng/song...</td>\n",
       "      <td>songwriting diaries_1_songwriting diary no. 1</td>\n",
       "      <td>songwriting diary no. 1</td>\n",
       "      <td>Vienna Teng</td>\n",
       "      <td>songwriting diaries</td>\n",
       "      <td>NaN</td>\n",
       "      <td>1.0</td>\n",
       "      <td>2012.0</td>\n",
       "      <td>414.44</td>\n",
       "      <td>128.0</td>\n",
       "      <td>NaN</td>\n",
       "      <td>NaN</td>\n",
       "    </tr>\n",
       "    <tr>\n",
       "      <th>1570985</th>\n",
       "      <td>/r32Ta/soundcloud_music/files/vienna-teng/song...</td>\n",
       "      <td>songwriting diaries_2_songwriting diary no. 2</td>\n",
       "      <td>songwriting diary no. 2</td>\n",
       "      <td>Vienna Teng</td>\n",
       "      <td>songwriting diaries</td>\n",
       "      <td>NaN</td>\n",
       "      <td>2.0</td>\n",
       "      <td>2012.0</td>\n",
       "      <td>757.30</td>\n",
       "      <td>128.0</td>\n",
       "      <td>NaN</td>\n",
       "      <td>NaN</td>\n",
       "    </tr>\n",
       "    <tr>\n",
       "      <th>1570978</th>\n",
       "      <td>/r32Ta/soundcloud_music/files/vienna-teng/song...</td>\n",
       "      <td>songwriting diaries_3_songwriting diary no. 3</td>\n",
       "      <td>songwriting diary no. 3</td>\n",
       "      <td>Vienna Teng</td>\n",
       "      <td>songwriting diaries</td>\n",
       "      <td>NaN</td>\n",
       "      <td>3.0</td>\n",
       "      <td>2012.0</td>\n",
       "      <td>365.92</td>\n",
       "      <td>128.0</td>\n",
       "      <td>NaN</td>\n",
       "      <td>NaN</td>\n",
       "    </tr>\n",
       "    <tr>\n",
       "      <th>1570972</th>\n",
       "      <td>/r32Ta/soundcloud_music/files/vienna-teng/the ...</td>\n",
       "      <td>the hymn of acxiom (1st draft demo)</td>\n",
       "      <td>the hymn of acxiom (1st draft demo)</td>\n",
       "      <td>Vienna Teng</td>\n",
       "      <td>NaN</td>\n",
       "      <td>NaN</td>\n",
       "      <td>NaN</td>\n",
       "      <td>2012.0</td>\n",
       "      <td>239.46</td>\n",
       "      <td>128.0</td>\n",
       "      <td>vocoder choir</td>\n",
       "      <td>NaN</td>\n",
       "    </tr>\n",
       "    <tr>\n",
       "      <th>1570977</th>\n",
       "      <td>/r32Ta/soundcloud_music/files/vienna-teng/Aims...</td>\n",
       "      <td>Aims_01_01 Level Up</td>\n",
       "      <td>01 Level Up</td>\n",
       "      <td>Vienna Teng</td>\n",
       "      <td>Aims</td>\n",
       "      <td>NaN</td>\n",
       "      <td>1.0</td>\n",
       "      <td>2013.0</td>\n",
       "      <td>234.43</td>\n",
       "      <td>128.0</td>\n",
       "      <td>Alternative</td>\n",
       "      <td>20.0</td>\n",
       "    </tr>\n",
       "    <tr>\n",
       "      <th>1570981</th>\n",
       "      <td>/r32Ta/soundcloud_music/files/vienna-teng/Aims...</td>\n",
       "      <td>Aims_02_02 In the 99</td>\n",
       "      <td>02 In the 99</td>\n",
       "      <td>Vienna Teng</td>\n",
       "      <td>Aims</td>\n",
       "      <td>NaN</td>\n",
       "      <td>2.0</td>\n",
       "      <td>2013.0</td>\n",
       "      <td>219.25</td>\n",
       "      <td>128.0</td>\n",
       "      <td>Alternative</td>\n",
       "      <td>20.0</td>\n",
       "    </tr>\n",
       "    <tr>\n",
       "      <th>1570980</th>\n",
       "      <td>/r32Ta/soundcloud_music/files/vienna-teng/Aims...</td>\n",
       "      <td>Aims_03_03 Landsailor feat. Glen Phillips</td>\n",
       "      <td>03 Landsailor feat. Glen Phillips</td>\n",
       "      <td>Vienna Teng</td>\n",
       "      <td>Aims</td>\n",
       "      <td>NaN</td>\n",
       "      <td>3.0</td>\n",
       "      <td>2013.0</td>\n",
       "      <td>226.11</td>\n",
       "      <td>128.0</td>\n",
       "      <td>Alternative</td>\n",
       "      <td>20.0</td>\n",
       "    </tr>\n",
       "    <tr>\n",
       "      <th>1570983</th>\n",
       "      <td>/r32Ta/soundcloud_music/files/vienna-teng/Aims...</td>\n",
       "      <td>Aims_04_04 Close to Home</td>\n",
       "      <td>04 Close to Home</td>\n",
       "      <td>Vienna Teng</td>\n",
       "      <td>Aims</td>\n",
       "      <td>NaN</td>\n",
       "      <td>4.0</td>\n",
       "      <td>2013.0</td>\n",
       "      <td>237.37</td>\n",
       "      <td>128.0</td>\n",
       "      <td>Alternative</td>\n",
       "      <td>20.0</td>\n",
       "    </tr>\n",
       "    <tr>\n",
       "      <th>1570982</th>\n",
       "      <td>/r32Ta/soundcloud_music/files/vienna-teng/Aims...</td>\n",
       "      <td>Aims_05_05 The Hymn of Acxiom</td>\n",
       "      <td>05 The Hymn of Acxiom</td>\n",
       "      <td>Vienna Teng</td>\n",
       "      <td>Aims</td>\n",
       "      <td>NaN</td>\n",
       "      <td>5.0</td>\n",
       "      <td>2013.0</td>\n",
       "      <td>229.77</td>\n",
       "      <td>128.0</td>\n",
       "      <td>Alternative</td>\n",
       "      <td>20.0</td>\n",
       "    </tr>\n",
       "    <tr>\n",
       "      <th>1570973</th>\n",
       "      <td>/r32Ta/soundcloud_music/files/vienna-teng/Aims...</td>\n",
       "      <td>Aims_06_06 Oh Mama No</td>\n",
       "      <td>06 Oh Mama No</td>\n",
       "      <td>Vienna Teng</td>\n",
       "      <td>Aims</td>\n",
       "      <td>NaN</td>\n",
       "      <td>6.0</td>\n",
       "      <td>2013.0</td>\n",
       "      <td>132.90</td>\n",
       "      <td>128.0</td>\n",
       "      <td>Alternative</td>\n",
       "      <td>20.0</td>\n",
       "    </tr>\n",
       "    <tr>\n",
       "      <th>1570976</th>\n",
       "      <td>/r32Ta/soundcloud_music/files/vienna-teng/Aims...</td>\n",
       "      <td>Aims_07_07 Copenhagen (Let Me Go)</td>\n",
       "      <td>07 Copenhagen (Let Me Go)</td>\n",
       "      <td>Vienna Teng</td>\n",
       "      <td>Aims</td>\n",
       "      <td>NaN</td>\n",
       "      <td>7.0</td>\n",
       "      <td>2013.0</td>\n",
       "      <td>183.61</td>\n",
       "      <td>128.0</td>\n",
       "      <td>Alternative</td>\n",
       "      <td>20.0</td>\n",
       "    </tr>\n",
       "    <tr>\n",
       "      <th>1570975</th>\n",
       "      <td>/r32Ta/soundcloud_music/files/vienna-teng/Aims...</td>\n",
       "      <td>Aims_08_08 Flyweight Love</td>\n",
       "      <td>08 Flyweight Love</td>\n",
       "      <td>Vienna Teng</td>\n",
       "      <td>Aims</td>\n",
       "      <td>NaN</td>\n",
       "      <td>8.0</td>\n",
       "      <td>2013.0</td>\n",
       "      <td>243.39</td>\n",
       "      <td>128.0</td>\n",
       "      <td>Alternative</td>\n",
       "      <td>20.0</td>\n",
       "    </tr>\n",
       "    <tr>\n",
       "      <th>1570986</th>\n",
       "      <td>/r32Ta/soundcloud_music/files/vienna-teng/Aims...</td>\n",
       "      <td>Aims_09_09 The Breaking Light feat. Alex Wong</td>\n",
       "      <td>09 The Breaking Light feat. Alex Wong</td>\n",
       "      <td>Vienna Teng</td>\n",
       "      <td>Aims</td>\n",
       "      <td>NaN</td>\n",
       "      <td>9.0</td>\n",
       "      <td>2013.0</td>\n",
       "      <td>262.42</td>\n",
       "      <td>128.0</td>\n",
       "      <td>Alternative</td>\n",
       "      <td>20.0</td>\n",
       "    </tr>\n",
       "    <tr>\n",
       "      <th>1570979</th>\n",
       "      <td>/r32Ta/soundcloud_music/files/vienna-teng/Aims...</td>\n",
       "      <td>Aims_10_10 Never Look Away</td>\n",
       "      <td>10 Never Look Away</td>\n",
       "      <td>Vienna Teng</td>\n",
       "      <td>Aims</td>\n",
       "      <td>NaN</td>\n",
       "      <td>10.0</td>\n",
       "      <td>2013.0</td>\n",
       "      <td>213.67</td>\n",
       "      <td>128.0</td>\n",
       "      <td>Alternative</td>\n",
       "      <td>20.0</td>\n",
       "    </tr>\n",
       "    <tr>\n",
       "      <th>1570974</th>\n",
       "      <td>/r32Ta/soundcloud_music/files/vienna-teng/Aims...</td>\n",
       "      <td>Aims_11_11 Goodnight New York</td>\n",
       "      <td>11 Goodnight New York</td>\n",
       "      <td>Vienna Teng</td>\n",
       "      <td>Aims</td>\n",
       "      <td>NaN</td>\n",
       "      <td>11.0</td>\n",
       "      <td>2013.0</td>\n",
       "      <td>203.67</td>\n",
       "      <td>128.0</td>\n",
       "      <td>Alternative</td>\n",
       "      <td>20.0</td>\n",
       "    </tr>\n",
       "  </tbody>\n",
       "</table>\n",
       "</div>"
      ],
      "text/plain": [
       "                                                     paths  \\\n",
       "2112244  /r32Ta/soundcloud_music/files/nightowlcollecti...   \n",
       "2112639  /r32Ta/soundcloud_music/files/nightowlcollecti...   \n",
       "2113004  /r32Ta/soundcloud_music/files/nightowlcollecti...   \n",
       "2112959  /r32Ta/soundcloud_music/files/nightowlcollecti...   \n",
       "2112795  /r32Ta/soundcloud_music/files/nightowlcollecti...   \n",
       "1570984  /r32Ta/soundcloud_music/files/vienna-teng/song...   \n",
       "1570985  /r32Ta/soundcloud_music/files/vienna-teng/song...   \n",
       "1570978  /r32Ta/soundcloud_music/files/vienna-teng/song...   \n",
       "1570972  /r32Ta/soundcloud_music/files/vienna-teng/the ...   \n",
       "1570977  /r32Ta/soundcloud_music/files/vienna-teng/Aims...   \n",
       "1570981  /r32Ta/soundcloud_music/files/vienna-teng/Aims...   \n",
       "1570980  /r32Ta/soundcloud_music/files/vienna-teng/Aims...   \n",
       "1570983  /r32Ta/soundcloud_music/files/vienna-teng/Aims...   \n",
       "1570982  /r32Ta/soundcloud_music/files/vienna-teng/Aims...   \n",
       "1570973  /r32Ta/soundcloud_music/files/vienna-teng/Aims...   \n",
       "1570976  /r32Ta/soundcloud_music/files/vienna-teng/Aims...   \n",
       "1570975  /r32Ta/soundcloud_music/files/vienna-teng/Aims...   \n",
       "1570986  /r32Ta/soundcloud_music/files/vienna-teng/Aims...   \n",
       "1570979  /r32Ta/soundcloud_music/files/vienna-teng/Aims...   \n",
       "1570974  /r32Ta/soundcloud_music/files/vienna-teng/Aims...   \n",
       "\n",
       "                                                  filename  \\\n",
       "2112244                   workstudychill - Vol. 2_265_4540   \n",
       "2112639                 workstudychill - Vol. 2_266_cortez   \n",
       "2113004             workstudychill - Vol. 2_267_Demolition   \n",
       "2112959  workstudychill - Vol. 2_268_Tea (visuals in de...   \n",
       "2112795                workstudychill - Vol. 2_270_printer   \n",
       "1570984      songwriting diaries_1_songwriting diary no. 1   \n",
       "1570985      songwriting diaries_2_songwriting diary no. 2   \n",
       "1570978      songwriting diaries_3_songwriting diary no. 3   \n",
       "1570972                the hymn of acxiom (1st draft demo)   \n",
       "1570977                                Aims_01_01 Level Up   \n",
       "1570981                               Aims_02_02 In the 99   \n",
       "1570980          Aims_03_03 Landsailor feat. Glen Phillips   \n",
       "1570983                           Aims_04_04 Close to Home   \n",
       "1570982                      Aims_05_05 The Hymn of Acxiom   \n",
       "1570973                              Aims_06_06 Oh Mama No   \n",
       "1570976                  Aims_07_07 Copenhagen (Let Me Go)   \n",
       "1570975                          Aims_08_08 Flyweight Love   \n",
       "1570986      Aims_09_09 The Breaking Light feat. Alex Wong   \n",
       "1570979                         Aims_10_10 Never Look Away   \n",
       "1570974                      Aims_11_11 Goodnight New York   \n",
       "\n",
       "                                         title       artist  \\\n",
       "2112244                                   4540       Vienna   \n",
       "2112639                                 cortez       Vienna   \n",
       "2113004                             Demolition       Vienna   \n",
       "2112959           Tea (visuals in description)       Vienna   \n",
       "2112795                                printer       Vienna   \n",
       "1570984                songwriting diary no. 1  Vienna Teng   \n",
       "1570985                songwriting diary no. 2  Vienna Teng   \n",
       "1570978                songwriting diary no. 3  Vienna Teng   \n",
       "1570972    the hymn of acxiom (1st draft demo)  Vienna Teng   \n",
       "1570977                            01 Level Up  Vienna Teng   \n",
       "1570981                           02 In the 99  Vienna Teng   \n",
       "1570980      03 Landsailor feat. Glen Phillips  Vienna Teng   \n",
       "1570983                       04 Close to Home  Vienna Teng   \n",
       "1570982                  05 The Hymn of Acxiom  Vienna Teng   \n",
       "1570973                          06 Oh Mama No  Vienna Teng   \n",
       "1570976              07 Copenhagen (Let Me Go)  Vienna Teng   \n",
       "1570975                      08 Flyweight Love  Vienna Teng   \n",
       "1570986  09 The Breaking Light feat. Alex Wong  Vienna Teng   \n",
       "1570979                     10 Never Look Away  Vienna Teng   \n",
       "1570974                  11 Goodnight New York  Vienna Teng   \n",
       "\n",
       "                             album  album artist  track number  release year  \\\n",
       "2112244  work/study/chill - Vol. 2           NaN         265.0        2019.0   \n",
       "2112639  work/study/chill - Vol. 2           NaN         266.0        2019.0   \n",
       "2113004  work/study/chill - Vol. 2           NaN         267.0        2019.0   \n",
       "2112959  work/study/chill - Vol. 2           NaN         268.0        2019.0   \n",
       "2112795  work/study/chill - Vol. 2           NaN         270.0        2019.0   \n",
       "1570984        songwriting diaries           NaN           1.0        2012.0   \n",
       "1570985        songwriting diaries           NaN           2.0        2012.0   \n",
       "1570978        songwriting diaries           NaN           3.0        2012.0   \n",
       "1570972                        NaN           NaN           NaN        2012.0   \n",
       "1570977                       Aims           NaN           1.0        2013.0   \n",
       "1570981                       Aims           NaN           2.0        2013.0   \n",
       "1570980                       Aims           NaN           3.0        2013.0   \n",
       "1570983                       Aims           NaN           4.0        2013.0   \n",
       "1570982                       Aims           NaN           5.0        2013.0   \n",
       "1570973                       Aims           NaN           6.0        2013.0   \n",
       "1570976                       Aims           NaN           7.0        2013.0   \n",
       "1570975                       Aims           NaN           8.0        2013.0   \n",
       "1570986                       Aims           NaN           9.0        2013.0   \n",
       "1570979                       Aims           NaN          10.0        2013.0   \n",
       "1570974                       Aims           NaN          11.0        2013.0   \n",
       "\n",
       "         duration (seconds)  bitrate (kbps)          genre  genre_id  \n",
       "2112244              124.18           128.0     beat music       NaN  \n",
       "2112639               85.48           128.0            NaN       NaN  \n",
       "2113004              130.91           128.0     beat music       NaN  \n",
       "2112959              109.41           128.0     beat music       NaN  \n",
       "2112795               85.43           128.0     beat music       NaN  \n",
       "1570984              414.44           128.0            NaN       NaN  \n",
       "1570985              757.30           128.0            NaN       NaN  \n",
       "1570978              365.92           128.0            NaN       NaN  \n",
       "1570972              239.46           128.0  vocoder choir       NaN  \n",
       "1570977              234.43           128.0    Alternative      20.0  \n",
       "1570981              219.25           128.0    Alternative      20.0  \n",
       "1570980              226.11           128.0    Alternative      20.0  \n",
       "1570983              237.37           128.0    Alternative      20.0  \n",
       "1570982              229.77           128.0    Alternative      20.0  \n",
       "1570973              132.90           128.0    Alternative      20.0  \n",
       "1570976              183.61           128.0    Alternative      20.0  \n",
       "1570975              243.39           128.0    Alternative      20.0  \n",
       "1570986              262.42           128.0    Alternative      20.0  \n",
       "1570979              213.67           128.0    Alternative      20.0  \n",
       "1570974              203.67           128.0    Alternative      20.0  "
      ]
     },
     "execution_count": 151,
     "metadata": {},
     "output_type": "execute_result"
    }
   ],
   "source": [
    "w_info_df.loc[idx_top_k].sort_values(by=[\"artist\", \"release year\", \"track number\"])"
   ]
  },
  {
   "cell_type": "code",
   "execution_count": 142,
   "id": "dba11b21-0ac7-423c-bad5-8dfa114361e2",
   "metadata": {
    "tags": []
   },
   "outputs": [],
   "source": [
    "col=\"artist\""
   ]
  },
  {
   "cell_type": "code",
   "execution_count": null,
   "id": "99eab968-41fb-41c7-9e05-f3b4ed9c3ed0",
   "metadata": {},
   "outputs": [],
   "source": []
  },
  {
   "cell_type": "code",
   "execution_count": 137,
   "id": "28006f66-92b7-4d2d-a43b-742e9761a4dd",
   "metadata": {
    "tags": []
   },
   "outputs": [
    {
     "data": {
      "text/plain": [
       "dict_keys(['X_filename', 'vectorizer_filename', 'X_title', 'vectorizer_title', 'X_artist', 'vectorizer_artist'])"
      ]
     },
     "execution_count": 137,
     "metadata": {},
     "output_type": "execute_result"
    }
   ],
   "source": [
    "tfidf_features.keys()"
   ]
  },
  {
   "cell_type": "code",
   "execution_count": 12,
   "id": "84792fdf-6ca2-4fcf-a282-f7aa242b3aa5",
   "metadata": {
    "tags": []
   },
   "outputs": [],
   "source": [
    "x_search = vectorizer.transform([\"vienna teng\"])"
   ]
  },
  {
   "cell_type": "code",
   "execution_count": 32,
   "id": "7afb33ef-4b93-4eb1-b062-5e07cd6197c1",
   "metadata": {
    "tags": []
   },
   "outputs": [],
   "source": [
    "out = np.array((X.dot(x_search.T).T.todense()))[0]"
   ]
  },
  {
   "cell_type": "code",
   "execution_count": 38,
   "id": "e6bc09e7-4b54-4157-a590-8551843e4260",
   "metadata": {
    "tags": []
   },
   "outputs": [],
   "source": [
    "top_10 = np.argsort(out)[::-1][:10]"
   ]
  },
  {
   "cell_type": "code",
   "execution_count": 39,
   "id": "76dce066-8bc7-43c9-bf5b-d0c0b81e466d",
   "metadata": {
    "tags": []
   },
   "outputs": [
    {
     "data": {
      "text/plain": [
       "0.6362747676903667"
      ]
     },
     "execution_count": 39,
     "metadata": {},
     "output_type": "execute_result"
    }
   ],
   "source": [
    "out[top_10[0]]"
   ]
  },
  {
   "cell_type": "code",
   "execution_count": 40,
   "id": "39ee650e-6abb-45c8-a519-4e390d6b1b8d",
   "metadata": {
    "tags": []
   },
   "outputs": [
    {
     "data": {
      "text/html": [
       "<div>\n",
       "<style scoped>\n",
       "    .dataframe tbody tr th:only-of-type {\n",
       "        vertical-align: middle;\n",
       "    }\n",
       "\n",
       "    .dataframe tbody tr th {\n",
       "        vertical-align: top;\n",
       "    }\n",
       "\n",
       "    .dataframe thead th {\n",
       "        text-align: right;\n",
       "    }\n",
       "</style>\n",
       "<table border=\"1\" class=\"dataframe\">\n",
       "  <thead>\n",
       "    <tr style=\"text-align: right;\">\n",
       "      <th></th>\n",
       "      <th>paths</th>\n",
       "      <th>song_name</th>\n",
       "    </tr>\n",
       "  </thead>\n",
       "  <tbody>\n",
       "    <tr>\n",
       "      <th>1998545</th>\n",
       "      <td>/r32Ta/soundcloud_music/files/the_fray/Vienna.mp3</td>\n",
       "      <td>Vienna</td>\n",
       "    </tr>\n",
       "    <tr>\n",
       "      <th>1334578</th>\n",
       "      <td>/r32Ta/soundcloud_music/files/larryfisherman/V...</td>\n",
       "      <td>Vienna</td>\n",
       "    </tr>\n",
       "    <tr>\n",
       "      <th>970729</th>\n",
       "      <td>/r32Ta/soundcloud_music/files/r0o0b/Vienna.mp3</td>\n",
       "      <td>Vienna</td>\n",
       "    </tr>\n",
       "    <tr>\n",
       "      <th>2057862</th>\n",
       "      <td>/r32Ta/soundcloud_music/files/hans-zimmer-offi...</td>\n",
       "      <td>Vienna</td>\n",
       "    </tr>\n",
       "    <tr>\n",
       "      <th>2145188</th>\n",
       "      <td>/r32Ta/soundcloud_music/files/vitamin-string-q...</td>\n",
       "      <td>Vienna</td>\n",
       "    </tr>\n",
       "    <tr>\n",
       "      <th>925837</th>\n",
       "      <td>/r32Ta/soundcloud_music/files/howard-shore-off...</td>\n",
       "      <td>Vienna</td>\n",
       "    </tr>\n",
       "    <tr>\n",
       "      <th>1640616</th>\n",
       "      <td>/r32Ta/soundcloud_music/files/interactivenoise...</td>\n",
       "      <td>Vienna</td>\n",
       "    </tr>\n",
       "    <tr>\n",
       "      <th>1788606</th>\n",
       "      <td>/r32Ta/soundcloud_music/files/dapayk/the vi-te...</td>\n",
       "      <td>the vi-teng clan</td>\n",
       "    </tr>\n",
       "    <tr>\n",
       "      <th>233643</th>\n",
       "      <td>/r32Ta/soundcloud_music/files/jazzinstrumental...</td>\n",
       "      <td>Vienna Jazz</td>\n",
       "    </tr>\n",
       "    <tr>\n",
       "      <th>544242</th>\n",
       "      <td>/r32Ta/soundcloud_music/files/hamburgradiosymp...</td>\n",
       "      <td>Vienna Blood</td>\n",
       "    </tr>\n",
       "  </tbody>\n",
       "</table>\n",
       "</div>"
      ],
      "text/plain": [
       "                                                     paths         song_name\n",
       "1998545  /r32Ta/soundcloud_music/files/the_fray/Vienna.mp3            Vienna\n",
       "1334578  /r32Ta/soundcloud_music/files/larryfisherman/V...            Vienna\n",
       "970729      /r32Ta/soundcloud_music/files/r0o0b/Vienna.mp3            Vienna\n",
       "2057862  /r32Ta/soundcloud_music/files/hans-zimmer-offi...            Vienna\n",
       "2145188  /r32Ta/soundcloud_music/files/vitamin-string-q...            Vienna\n",
       "925837   /r32Ta/soundcloud_music/files/howard-shore-off...            Vienna\n",
       "1640616  /r32Ta/soundcloud_music/files/interactivenoise...            Vienna\n",
       "1788606  /r32Ta/soundcloud_music/files/dapayk/the vi-te...  the vi-teng clan\n",
       "233643   /r32Ta/soundcloud_music/files/jazzinstrumental...       Vienna Jazz\n",
       "544242   /r32Ta/soundcloud_music/files/hamburgradiosymp...      Vienna Blood"
      ]
     },
     "execution_count": 40,
     "metadata": {},
     "output_type": "execute_result"
    }
   ],
   "source": [
    "df.loc[top_10]"
   ]
  },
  {
   "cell_type": "code",
   "execution_count": 16,
   "id": "65a27084-ef63-45cf-920e-feaebf52838c",
   "metadata": {
    "tags": []
   },
   "outputs": [
    {
     "data": {
      "text/plain": [
       "(1, 1143919)"
      ]
     },
     "execution_count": 16,
     "metadata": {},
     "output_type": "execute_result"
    }
   ],
   "source": [
    "x_search.shape"
   ]
  },
  {
   "cell_type": "code",
   "execution_count": null,
   "id": "ecb92d30-b85d-415c-800d-d909b52ab362",
   "metadata": {},
   "outputs": [],
   "source": []
  },
  {
   "cell_type": "code",
   "execution_count": 153,
   "id": "98887d30-ee50-4f35-a3c4-a6331eb549b5",
   "metadata": {
    "tags": []
   },
   "outputs": [
    {
     "name": "stdout",
     "output_type": "stream",
     "text": [
      "archive_tracker  copy_sc_data_v2.pckl\t music_info.tsv.gz\n",
      "chromedriver\t music_info_tiny.tsv.gz  sc_data_v2.pckl\n"
     ]
    }
   ],
   "source": [
    "!ls"
   ]
  },
  {
   "cell_type": "code",
   "execution_count": 154,
   "id": "f5d8a29c-4bd0-4ee1-8b28-ddceec5e0390",
   "metadata": {
    "tags": []
   },
   "outputs": [],
   "source": [
    "tiny_df = pd.read_csv(\"/home/keld/projects/music_gen/sc_scrape/data/music_info_tiny.tsv.gz\", sep=\"\\t\", compression=\"gzip\")"
   ]
  },
  {
   "cell_type": "code",
   "execution_count": 157,
   "id": "70aabdd5-3c90-462c-b684-e017db745d3c",
   "metadata": {
    "tags": []
   },
   "outputs": [
    {
     "data": {
      "text/plain": [
       "Index(['album', 'albumartist', 'artist', 'audio_offset', 'bitrate', 'channels',\n",
       "       'composer', 'disc', 'disc_total', 'duration', 'filesize', 'genre',\n",
       "       'samplerate', 'title', 'track', 'track_total', 'year', 'local_path',\n",
       "       'sc_user', 'sc_track_name', 'sc_link', 'tag', 'likes', 'reposts',\n",
       "       'plays', 'comments', 'music_path', 'music_id'],\n",
       "      dtype='object')"
      ]
     },
     "execution_count": 157,
     "metadata": {},
     "output_type": "execute_result"
    }
   ],
   "source": [
    "tiny_df.columns"
   ]
  },
  {
   "cell_type": "code",
   "execution_count": 159,
   "id": "e0c91cbb-a2d2-436f-82a9-c40e2c50ebd1",
   "metadata": {
    "tags": []
   },
   "outputs": [
    {
     "data": {
      "text/plain": [
       "0                        sony-classical/Benedictus.mp3\n",
       "1    sony-classical/2CELLOS - Supermassive Black Ho...\n",
       "2                   sony-classical/Highway To Hell.mp3\n",
       "3         freemusicstreaming/Atlantis  Paul Landry.mp3\n",
       "4        freemusicstreaming/Aphrodite  Paul Landry.mp3\n",
       "Name: music_path, dtype: object"
      ]
     },
     "execution_count": 159,
     "metadata": {},
     "output_type": "execute_result"
    }
   ],
   "source": [
    "tiny_df.head()[\"music_path\"]"
   ]
  },
  {
   "cell_type": "code",
   "execution_count": 15,
   "id": "b7abd348-9a10-46a4-af40-1b523fb999fa",
   "metadata": {
    "tags": []
   },
   "outputs": [
    {
     "data": {
      "text/plain": [
       "(2198568, 1143919)"
      ]
     },
     "execution_count": 15,
     "metadata": {},
     "output_type": "execute_result"
    }
   ],
   "source": [
    "X.shape"
   ]
  },
  {
   "cell_type": "code",
   "execution_count": 13,
   "id": "a313cd87-8bab-49f8-83f2-2c212677f465",
   "metadata": {
    "tags": []
   },
   "outputs": [
    {
     "ename": "ValueError",
     "evalue": "dimension mismatch",
     "output_type": "error",
     "traceback": [
      "\u001b[0;31m---------------------------------------------------------------------------\u001b[0m",
      "\u001b[0;31mValueError\u001b[0m                                Traceback (most recent call last)",
      "Cell \u001b[0;32mIn[13], line 1\u001b[0m\n\u001b[0;32m----> 1\u001b[0m \u001b[43mnp\u001b[49m\u001b[38;5;241;43m.\u001b[39;49m\u001b[43mdot\u001b[49m\u001b[43m(\u001b[49m\u001b[43mX\u001b[49m\u001b[43m,\u001b[49m\u001b[43mx_search\u001b[49m\u001b[43m)\u001b[49m\n",
      "File \u001b[0;32m/n1Tb/miniconda3/envs/mugen_ml/lib/python3.10/site-packages/scipy/sparse/_matrix.py:48\u001b[0m, in \u001b[0;36mspmatrix.__mul__\u001b[0;34m(self, other)\u001b[0m\n\u001b[1;32m     47\u001b[0m \u001b[38;5;28;01mdef\u001b[39;00m \u001b[38;5;21m__mul__\u001b[39m(\u001b[38;5;28mself\u001b[39m, other):\n\u001b[0;32m---> 48\u001b[0m     \u001b[38;5;28;01mreturn\u001b[39;00m \u001b[38;5;28;43mself\u001b[39;49m\u001b[38;5;241;43m.\u001b[39;49m\u001b[43m_mul_dispatch\u001b[49m\u001b[43m(\u001b[49m\u001b[43mother\u001b[49m\u001b[43m)\u001b[49m\n",
      "File \u001b[0;32m/n1Tb/miniconda3/envs/mugen_ml/lib/python3.10/site-packages/scipy/sparse/_base.py:534\u001b[0m, in \u001b[0;36m_spbase._mul_dispatch\u001b[0;34m(self, other)\u001b[0m\n\u001b[1;32m    532\u001b[0m \u001b[38;5;28;01mif\u001b[39;00m issparse(other):\n\u001b[1;32m    533\u001b[0m     \u001b[38;5;28;01mif\u001b[39;00m \u001b[38;5;28mself\u001b[39m\u001b[38;5;241m.\u001b[39mshape[\u001b[38;5;241m1\u001b[39m] \u001b[38;5;241m!=\u001b[39m other\u001b[38;5;241m.\u001b[39mshape[\u001b[38;5;241m0\u001b[39m]:\n\u001b[0;32m--> 534\u001b[0m         \u001b[38;5;28;01mraise\u001b[39;00m \u001b[38;5;167;01mValueError\u001b[39;00m(\u001b[38;5;124m'\u001b[39m\u001b[38;5;124mdimension mismatch\u001b[39m\u001b[38;5;124m'\u001b[39m)\n\u001b[1;32m    535\u001b[0m     \u001b[38;5;28;01mreturn\u001b[39;00m \u001b[38;5;28mself\u001b[39m\u001b[38;5;241m.\u001b[39m_mul_sparse_matrix(other)\n\u001b[1;32m    537\u001b[0m \u001b[38;5;66;03m# If it's a list or whatever, treat it like an array\u001b[39;00m\n",
      "\u001b[0;31mValueError\u001b[0m: dimension mismatch"
     ]
    }
   ],
   "source": [
    "np.dot(X,x_search)"
   ]
  },
  {
   "cell_type": "code",
   "execution_count": null,
   "id": "2fa72eca-f2d4-44cc-9a74-74972186f9de",
   "metadata": {},
   "outputs": [],
   "source": [
    "transform(\"vienna teng\")"
   ]
  },
  {
   "cell_type": "code",
   "execution_count": 4,
   "id": "937b3766-60e0-4407-9a2a-42e6d8fc83a2",
   "metadata": {
    "tags": []
   },
   "outputs": [
    {
     "data": {
      "text/plain": [
       "2198568"
      ]
     },
     "execution_count": 4,
     "metadata": {},
     "output_type": "execute_result"
    }
   ],
   "source": [
    "len(mp3_files)"
   ]
  },
  {
   "cell_type": "code",
   "execution_count": 14,
   "id": "1407b8d6-fbad-4c04-94ed-7f2007b66fa5",
   "metadata": {
    "tags": []
   },
   "outputs": [],
   "source": [
    "#mp3_r32_info_dct"
   ]
  },
  {
   "cell_type": "code",
   "execution_count": 6,
   "id": "73b2570a-1351-4ac7-b189-b2caccedfaf6",
   "metadata": {
    "tags": []
   },
   "outputs": [],
   "source": [
    "def score_terms(x, terms=None):\n",
    "    if terms:\n",
    "        terms = [term.lower() for term in terms]\n",
    "        return sum([str(x).lower().find(term) != -1 for term in terms ])\n",
    "    else: \n",
    "        return True\n",
    "\n",
    "# scores = all_music_info_df[\"artist\"].apply(lambda x: score_terms(x, ['Vienna', \"Teng\"]))"
   ]
  },
  {
   "cell_type": "code",
   "execution_count": 5,
   "id": "7921ec22-bd80-4ede-a779-b340bf58c978",
   "metadata": {
    "tags": []
   },
   "outputs": [
    {
     "name": "stderr",
     "output_type": "stream",
     "text": [
      "/tmp/ipykernel_330381/1792048388.py:4: NumbaDeprecationWarning: \u001b[1mThe 'nopython' keyword argument was not supplied to the 'numba.jit' decorator. The implicit default value for this argument is currently False, but it will be changed to True in Numba 0.59.0. See https://numba.readthedocs.io/en/stable/reference/deprecation.html#deprecation-of-object-mode-fall-back-behaviour-when-using-jit for details.\u001b[0m\n",
      "  def score_terms_numba(x, terms=None):\n"
     ]
    }
   ],
   "source": [
    "\n",
    "@numba.jit\n",
    "def score_terms_numba(x, terms=None):\n",
    "    if terms:\n",
    "        terms = [term.lower() for term in terms]\n",
    "        return sum([str(x).lower().find(term) != -1 for term in terms ])\n",
    "    else: \n",
    "        return True"
   ]
  },
  {
   "cell_type": "code",
   "execution_count": 9,
   "id": "e9faec6d-5200-444e-a174-b0849e86f310",
   "metadata": {
    "tags": []
   },
   "outputs": [
    {
     "name": "stdout",
     "output_type": "stream",
     "text": [
      "13.4 s ± 0 ns per loop (mean ± std. dev. of 1 run, 1 loop each)\n"
     ]
    }
   ],
   "source": [
    "%%timeit -n 1 -r 1\n",
    "n = [fn + \"_|_\" if score_terms(fn, [\"vienna\", \"teng\"]) == 2 else '' for fn in mp3_files]\n",
    "k = reduce(lambda x, y: x+y, n, '' )\n",
    "k.split(\"_|_\")[:-1]"
   ]
  },
  {
   "cell_type": "code",
   "execution_count": 10,
   "id": "dbf2dc08-513e-42af-abb5-d68b1207599f",
   "metadata": {
    "tags": []
   },
   "outputs": [
    {
     "name": "stdout",
     "output_type": "stream",
     "text": [
      "48.5 s ± 0 ns per loop (mean ± std. dev. of 1 run, 1 loop each)\n"
     ]
    }
   ],
   "source": [
    "%%timeit -n 1 -r 1\n",
    "n = [fn + \"_|_\" if score_terms_numba(fn, [\"vienna\", \"teng\"]) == 2 else '' for fn in mp3_files]\n",
    "k = reduce(lambda x, y: x+y, n, '' )\n",
    "k.split(\"_|_\")[:-1]\n"
   ]
  },
  {
   "cell_type": "code",
   "execution_count": 12,
   "id": "da591ca6-bd83-45e1-811e-7a9742ecafdd",
   "metadata": {
    "tags": []
   },
   "outputs": [],
   "source": []
  },
  {
   "cell_type": "code",
   "execution_count": 10,
   "id": "e7437300-51d8-4f19-8bcc-8d99be84489f",
   "metadata": {
    "tags": []
   },
   "outputs": [
    {
     "name": "stdout",
     "output_type": "stream",
     "text": [
      "14.8 s ± 0 ns per loop (mean ± std. dev. of 1 run, 1 loop each)\n"
     ]
    }
   ],
   "source": [
    "%%timeit -n 1 -r 1\n",
    "search_df = df[df[\"paths\"].apply(lambda x: score_terms(x, [\"vienna\", \"teng\"]) == 2)]"
   ]
  },
  {
   "cell_type": "code",
   "execution_count": 10,
   "id": "a93e623d-daad-48f7-8de1-9f11d90ba1c6",
   "metadata": {
    "tags": []
   },
   "outputs": [
    {
     "data": {
      "text/plain": [
       "'2.2.0'"
      ]
     },
     "execution_count": 10,
     "metadata": {},
     "output_type": "execute_result"
    }
   ],
   "source": [
    "pd.__version__"
   ]
  },
  {
   "cell_type": "code",
   "execution_count": null,
   "id": "b74a6ec3-0eae-4a20-8343-b2613aa035ca",
   "metadata": {},
   "outputs": [],
   "source": [
    "raw=True, engine_kwargs=\"parallel\""
   ]
  },
  {
   "cell_type": "code",
   "execution_count": null,
   "id": "621638e3-af74-4c51-9ea8-fcc440ed2c75",
   "metadata": {},
   "outputs": [],
   "source": [
    "roll.apply(f, engine='numba', raw=True)\n"
   ]
  },
  {
   "cell_type": "code",
   "execution_count": 15,
   "id": "8b987fad-1bb8-4181-8a5e-50ea7f3bed91",
   "metadata": {
    "tags": []
   },
   "outputs": [],
   "source": [
    "f = lambda x: score_terms(x, [\"vienna\", \"teng\"]) == 2"
   ]
  },
  {
   "cell_type": "code",
   "execution_count": 24,
   "id": "b8005e89-9957-4b29-9c28-62385b9286c9",
   "metadata": {
    "tags": []
   },
   "outputs": [],
   "source": []
  },
  {
   "cell_type": "code",
   "execution_count": 26,
   "id": "b448139d-f1f1-4f90-8279-0cce30cc5d40",
   "metadata": {
    "tags": []
   },
   "outputs": [
    {
     "ename": "ModuleNotFoundError",
     "evalue": "No module named 'sklearn'",
     "output_type": "error",
     "traceback": [
      "\u001b[0;31m---------------------------------------------------------------------------\u001b[0m",
      "\u001b[0;31mModuleNotFoundError\u001b[0m                       Traceback (most recent call last)",
      "Cell \u001b[0;32mIn[26], line 1\u001b[0m\n\u001b[0;32m----> 1\u001b[0m \u001b[38;5;28;01mfrom\u001b[39;00m \u001b[38;5;21;01msklearn\u001b[39;00m\u001b[38;5;21;01m.\u001b[39;00m\u001b[38;5;21;01mfeature_extraction\u001b[39;00m\u001b[38;5;21;01m.\u001b[39;00m\u001b[38;5;21;01mtext\u001b[39;00m \u001b[38;5;28;01mimport\u001b[39;00m TfidfVectorizer\n",
      "\u001b[0;31mModuleNotFoundError\u001b[0m: No module named 'sklearn'"
     ]
    }
   ],
   "source": []
  },
  {
   "cell_type": "code",
   "execution_count": 25,
   "id": "224d3f47-464b-45a9-a591-8ab6bd16e155",
   "metadata": {
    "tags": []
   },
   "outputs": [
    {
     "data": {
      "text/html": [
       "<div>\n",
       "<style scoped>\n",
       "    .dataframe tbody tr th:only-of-type {\n",
       "        vertical-align: middle;\n",
       "    }\n",
       "\n",
       "    .dataframe tbody tr th {\n",
       "        vertical-align: top;\n",
       "    }\n",
       "\n",
       "    .dataframe thead th {\n",
       "        text-align: right;\n",
       "    }\n",
       "</style>\n",
       "<table border=\"1\" class=\"dataframe\">\n",
       "  <thead>\n",
       "    <tr style=\"text-align: right;\">\n",
       "      <th></th>\n",
       "      <th>paths</th>\n",
       "      <th>song_name</th>\n",
       "    </tr>\n",
       "  </thead>\n",
       "  <tbody>\n",
       "    <tr>\n",
       "      <th>0</th>\n",
       "      <td>/r32Ta/soundcloud_music/files/user-337026238/C...</td>\n",
       "      <td>Crown Imperial, by William Walton</td>\n",
       "    </tr>\n",
       "    <tr>\n",
       "      <th>1</th>\n",
       "      <td>/r32Ta/soundcloud_music/files/user-337026238/S...</td>\n",
       "      <td>Symphony No.7 in A - Beethoven</td>\n",
       "    </tr>\n",
       "    <tr>\n",
       "      <th>2</th>\n",
       "      <td>/r32Ta/soundcloud_music/files/user-337026238/H...</td>\n",
       "      <td>HSO 2019 Ripon Cathedral Concert(2nd Half)</td>\n",
       "    </tr>\n",
       "    <tr>\n",
       "      <th>3</th>\n",
       "      <td>/r32Ta/soundcloud_music/files/user-337026238/F...</td>\n",
       "      <td>Fantasia On British Sea Songs, by Henry Wood  ...</td>\n",
       "    </tr>\n",
       "    <tr>\n",
       "      <th>4</th>\n",
       "      <td>/r32Ta/soundcloud_music/files/user-337026238/P...</td>\n",
       "      <td>Pomp &amp; Circumstance March No. 1, Edward Elgar</td>\n",
       "    </tr>\n",
       "  </tbody>\n",
       "</table>\n",
       "</div>"
      ],
      "text/plain": [
       "                                               paths  \\\n",
       "0  /r32Ta/soundcloud_music/files/user-337026238/C...   \n",
       "1  /r32Ta/soundcloud_music/files/user-337026238/S...   \n",
       "2  /r32Ta/soundcloud_music/files/user-337026238/H...   \n",
       "3  /r32Ta/soundcloud_music/files/user-337026238/F...   \n",
       "4  /r32Ta/soundcloud_music/files/user-337026238/P...   \n",
       "\n",
       "                                           song_name  \n",
       "0                  Crown Imperial, by William Walton  \n",
       "1                     Symphony No.7 in A - Beethoven  \n",
       "2         HSO 2019 Ripon Cathedral Concert(2nd Half)  \n",
       "3  Fantasia On British Sea Songs, by Henry Wood  ...  \n",
       "4      Pomp & Circumstance March No. 1, Edward Elgar  "
      ]
     },
     "execution_count": 25,
     "metadata": {},
     "output_type": "execute_result"
    }
   ],
   "source": [
    "df.head()"
   ]
  },
  {
   "cell_type": "code",
   "execution_count": 18,
   "id": "e9c724b6-96fc-4925-bf7c-0b874b59a3f4",
   "metadata": {
    "tags": []
   },
   "outputs": [
    {
     "data": {
      "text/plain": [
       "['/r32Ta/soundcloud_music/files/user-337026238/Crown Imperial, by William Walton.mp3',\n",
       " '/r32Ta/soundcloud_music/files/user-337026238/Symphony No.7 in A - Beethoven.mp3',\n",
       " '/r32Ta/soundcloud_music/files/user-337026238/HSO 2019 Ripon Cathedral Concert(2nd Half).mp3',\n",
       " '/r32Ta/soundcloud_music/files/user-337026238/Fantasia On British Sea Songs, by Henry Wood  Malcolm Sargent.mp3',\n",
       " '/r32Ta/soundcloud_music/files/user-337026238/Pomp & Circumstance March No. 1, Edward Elgar.mp3',\n",
       " '/r32Ta/soundcloud_music/files/user-337026238/Chanson de Matin, by Edward Elgar.mp3',\n",
       " '/r32Ta/soundcloud_music/files/user-337026238/Arutunian, Trumpet Concerto Extract.mp3',\n",
       " '/r32Ta/soundcloud_music/files/user-337026238/By The Sleepy Lagoon, by Eric Coates.mp3',\n",
       " '/r32Ta/soundcloud_music/files/user-337026238/Four Scottish Dances, by Malcolm Arnold.mp3',\n",
       " '/r32Ta/soundcloud_music/files/user-337026238/Elizabethan Serenade, by Ronald Binge.mp3']"
      ]
     },
     "execution_count": 18,
     "metadata": {},
     "output_type": "execute_result"
    }
   ],
   "source": [
    "mp3_files[:10]"
   ]
  },
  {
   "cell_type": "code",
   "execution_count": 17,
   "id": "7d7a76bd-f86f-4f52-8a96-f6c25a2e44c0",
   "metadata": {
    "tags": []
   },
   "outputs": [
    {
     "ename": "TypeError",
     "evalue": "<lambda>() got an unexpected keyword argument 'engine'",
     "output_type": "error",
     "traceback": [
      "\u001b[0;31m---------------------------------------------------------------------------\u001b[0m",
      "\u001b[0;31mTypeError\u001b[0m                                 Traceback (most recent call last)",
      "Cell \u001b[0;32mIn[17], line 1\u001b[0m\n\u001b[0;32m----> 1\u001b[0m \u001b[43mget_ipython\u001b[49m\u001b[43m(\u001b[49m\u001b[43m)\u001b[49m\u001b[38;5;241;43m.\u001b[39;49m\u001b[43mrun_cell_magic\u001b[49m\u001b[43m(\u001b[49m\u001b[38;5;124;43m'\u001b[39;49m\u001b[38;5;124;43mtimeit\u001b[39;49m\u001b[38;5;124;43m'\u001b[39;49m\u001b[43m,\u001b[49m\u001b[43m \u001b[49m\u001b[38;5;124;43m'\u001b[39;49m\u001b[38;5;124;43m-n 1 -r 1\u001b[39;49m\u001b[38;5;124;43m'\u001b[39;49m\u001b[43m,\u001b[49m\u001b[43m \u001b[49m\u001b[38;5;124;43m'\u001b[39;49m\u001b[38;5;124;43msearch_df = df[df[\u001b[39;49m\u001b[38;5;124;43m\"\u001b[39;49m\u001b[38;5;124;43mpaths\u001b[39;49m\u001b[38;5;124;43m\"\u001b[39;49m\u001b[38;5;124;43m].apply(f, engine=\u001b[39;49m\u001b[38;5;130;43;01m\\'\u001b[39;49;00m\u001b[38;5;124;43mnumba\u001b[39;49m\u001b[38;5;130;43;01m\\'\u001b[39;49;00m\u001b[38;5;124;43m, raw=True)]\u001b[39;49m\u001b[38;5;130;43;01m\\n\u001b[39;49;00m\u001b[38;5;124;43m'\u001b[39;49m\u001b[43m)\u001b[49m\n",
      "File \u001b[0;32m/n1Tb/miniconda3/envs/mugen_ml/lib/python3.10/site-packages/IPython/core/interactiveshell.py:2493\u001b[0m, in \u001b[0;36mInteractiveShell.run_cell_magic\u001b[0;34m(self, magic_name, line, cell)\u001b[0m\n\u001b[1;32m   2491\u001b[0m \u001b[38;5;28;01mwith\u001b[39;00m \u001b[38;5;28mself\u001b[39m\u001b[38;5;241m.\u001b[39mbuiltin_trap:\n\u001b[1;32m   2492\u001b[0m     args \u001b[38;5;241m=\u001b[39m (magic_arg_s, cell)\n\u001b[0;32m-> 2493\u001b[0m     result \u001b[38;5;241m=\u001b[39m \u001b[43mfn\u001b[49m\u001b[43m(\u001b[49m\u001b[38;5;241;43m*\u001b[39;49m\u001b[43margs\u001b[49m\u001b[43m,\u001b[49m\u001b[43m \u001b[49m\u001b[38;5;241;43m*\u001b[39;49m\u001b[38;5;241;43m*\u001b[39;49m\u001b[43mkwargs\u001b[49m\u001b[43m)\u001b[49m\n\u001b[1;32m   2495\u001b[0m \u001b[38;5;66;03m# The code below prevents the output from being displayed\u001b[39;00m\n\u001b[1;32m   2496\u001b[0m \u001b[38;5;66;03m# when using magics with decorator @output_can_be_silenced\u001b[39;00m\n\u001b[1;32m   2497\u001b[0m \u001b[38;5;66;03m# when the last Python token in the expression is a ';'.\u001b[39;00m\n\u001b[1;32m   2498\u001b[0m \u001b[38;5;28;01mif\u001b[39;00m \u001b[38;5;28mgetattr\u001b[39m(fn, magic\u001b[38;5;241m.\u001b[39mMAGIC_OUTPUT_CAN_BE_SILENCED, \u001b[38;5;28;01mFalse\u001b[39;00m):\n",
      "File \u001b[0;32m/n1Tb/miniconda3/envs/mugen_ml/lib/python3.10/site-packages/IPython/core/magics/execution.py:1189\u001b[0m, in \u001b[0;36mExecutionMagics.timeit\u001b[0;34m(self, line, cell, local_ns)\u001b[0m\n\u001b[1;32m   1186\u001b[0m         \u001b[38;5;28;01mif\u001b[39;00m time_number \u001b[38;5;241m>\u001b[39m\u001b[38;5;241m=\u001b[39m \u001b[38;5;241m0.2\u001b[39m:\n\u001b[1;32m   1187\u001b[0m             \u001b[38;5;28;01mbreak\u001b[39;00m\n\u001b[0;32m-> 1189\u001b[0m all_runs \u001b[38;5;241m=\u001b[39m \u001b[43mtimer\u001b[49m\u001b[38;5;241;43m.\u001b[39;49m\u001b[43mrepeat\u001b[49m\u001b[43m(\u001b[49m\u001b[43mrepeat\u001b[49m\u001b[43m,\u001b[49m\u001b[43m \u001b[49m\u001b[43mnumber\u001b[49m\u001b[43m)\u001b[49m\n\u001b[1;32m   1190\u001b[0m best \u001b[38;5;241m=\u001b[39m \u001b[38;5;28mmin\u001b[39m(all_runs) \u001b[38;5;241m/\u001b[39m number\n\u001b[1;32m   1191\u001b[0m worst \u001b[38;5;241m=\u001b[39m \u001b[38;5;28mmax\u001b[39m(all_runs) \u001b[38;5;241m/\u001b[39m number\n",
      "File \u001b[0;32m/n1Tb/miniconda3/envs/mugen_ml/lib/python3.10/timeit.py:206\u001b[0m, in \u001b[0;36mTimer.repeat\u001b[0;34m(self, repeat, number)\u001b[0m\n\u001b[1;32m    204\u001b[0m r \u001b[38;5;241m=\u001b[39m []\n\u001b[1;32m    205\u001b[0m \u001b[38;5;28;01mfor\u001b[39;00m i \u001b[38;5;129;01min\u001b[39;00m \u001b[38;5;28mrange\u001b[39m(repeat):\n\u001b[0;32m--> 206\u001b[0m     t \u001b[38;5;241m=\u001b[39m \u001b[38;5;28;43mself\u001b[39;49m\u001b[38;5;241;43m.\u001b[39;49m\u001b[43mtimeit\u001b[49m\u001b[43m(\u001b[49m\u001b[43mnumber\u001b[49m\u001b[43m)\u001b[49m\n\u001b[1;32m    207\u001b[0m     r\u001b[38;5;241m.\u001b[39mappend(t)\n\u001b[1;32m    208\u001b[0m \u001b[38;5;28;01mreturn\u001b[39;00m r\n",
      "File \u001b[0;32m/n1Tb/miniconda3/envs/mugen_ml/lib/python3.10/site-packages/IPython/core/magics/execution.py:173\u001b[0m, in \u001b[0;36mTimer.timeit\u001b[0;34m(self, number)\u001b[0m\n\u001b[1;32m    171\u001b[0m gc\u001b[38;5;241m.\u001b[39mdisable()\n\u001b[1;32m    172\u001b[0m \u001b[38;5;28;01mtry\u001b[39;00m:\n\u001b[0;32m--> 173\u001b[0m     timing \u001b[38;5;241m=\u001b[39m \u001b[38;5;28;43mself\u001b[39;49m\u001b[38;5;241;43m.\u001b[39;49m\u001b[43minner\u001b[49m\u001b[43m(\u001b[49m\u001b[43mit\u001b[49m\u001b[43m,\u001b[49m\u001b[43m \u001b[49m\u001b[38;5;28;43mself\u001b[39;49m\u001b[38;5;241;43m.\u001b[39;49m\u001b[43mtimer\u001b[49m\u001b[43m)\u001b[49m\n\u001b[1;32m    174\u001b[0m \u001b[38;5;28;01mfinally\u001b[39;00m:\n\u001b[1;32m    175\u001b[0m     \u001b[38;5;28;01mif\u001b[39;00m gcold:\n",
      "File \u001b[0;32m<magic-timeit>:1\u001b[0m, in \u001b[0;36minner\u001b[0;34m(_it, _timer)\u001b[0m\n",
      "File \u001b[0;32m/n1Tb/miniconda3/envs/mugen_ml/lib/python3.10/site-packages/pandas/core/series.py:4904\u001b[0m, in \u001b[0;36mSeries.apply\u001b[0;34m(self, func, convert_dtype, args, by_row, **kwargs)\u001b[0m\n\u001b[1;32m   4769\u001b[0m \u001b[38;5;28;01mdef\u001b[39;00m \u001b[38;5;21mapply\u001b[39m(\n\u001b[1;32m   4770\u001b[0m     \u001b[38;5;28mself\u001b[39m,\n\u001b[1;32m   4771\u001b[0m     func: AggFuncType,\n\u001b[0;32m   (...)\u001b[0m\n\u001b[1;32m   4776\u001b[0m     \u001b[38;5;241m*\u001b[39m\u001b[38;5;241m*\u001b[39mkwargs,\n\u001b[1;32m   4777\u001b[0m ) \u001b[38;5;241m-\u001b[39m\u001b[38;5;241m>\u001b[39m DataFrame \u001b[38;5;241m|\u001b[39m Series:\n\u001b[1;32m   4778\u001b[0m \u001b[38;5;250m    \u001b[39m\u001b[38;5;124;03m\"\"\"\u001b[39;00m\n\u001b[1;32m   4779\u001b[0m \u001b[38;5;124;03m    Invoke function on values of Series.\u001b[39;00m\n\u001b[1;32m   4780\u001b[0m \n\u001b[0;32m   (...)\u001b[0m\n\u001b[1;32m   4895\u001b[0m \u001b[38;5;124;03m    dtype: float64\u001b[39;00m\n\u001b[1;32m   4896\u001b[0m \u001b[38;5;124;03m    \"\"\"\u001b[39;00m\n\u001b[1;32m   4897\u001b[0m     \u001b[38;5;28;01mreturn\u001b[39;00m \u001b[43mSeriesApply\u001b[49m\u001b[43m(\u001b[49m\n\u001b[1;32m   4898\u001b[0m \u001b[43m        \u001b[49m\u001b[38;5;28;43mself\u001b[39;49m\u001b[43m,\u001b[49m\n\u001b[1;32m   4899\u001b[0m \u001b[43m        \u001b[49m\u001b[43mfunc\u001b[49m\u001b[43m,\u001b[49m\n\u001b[1;32m   4900\u001b[0m \u001b[43m        \u001b[49m\u001b[43mconvert_dtype\u001b[49m\u001b[38;5;241;43m=\u001b[39;49m\u001b[43mconvert_dtype\u001b[49m\u001b[43m,\u001b[49m\n\u001b[1;32m   4901\u001b[0m \u001b[43m        \u001b[49m\u001b[43mby_row\u001b[49m\u001b[38;5;241;43m=\u001b[39;49m\u001b[43mby_row\u001b[49m\u001b[43m,\u001b[49m\n\u001b[1;32m   4902\u001b[0m \u001b[43m        \u001b[49m\u001b[43margs\u001b[49m\u001b[38;5;241;43m=\u001b[39;49m\u001b[43margs\u001b[49m\u001b[43m,\u001b[49m\n\u001b[1;32m   4903\u001b[0m \u001b[43m        \u001b[49m\u001b[43mkwargs\u001b[49m\u001b[38;5;241;43m=\u001b[39;49m\u001b[43mkwargs\u001b[49m\u001b[43m,\u001b[49m\n\u001b[0;32m-> 4904\u001b[0m \u001b[43m    \u001b[49m\u001b[43m)\u001b[49m\u001b[38;5;241;43m.\u001b[39;49m\u001b[43mapply\u001b[49m\u001b[43m(\u001b[49m\u001b[43m)\u001b[49m\n",
      "File \u001b[0;32m/n1Tb/miniconda3/envs/mugen_ml/lib/python3.10/site-packages/pandas/core/apply.py:1427\u001b[0m, in \u001b[0;36mSeriesApply.apply\u001b[0;34m(self)\u001b[0m\n\u001b[1;32m   1424\u001b[0m     \u001b[38;5;28;01mreturn\u001b[39;00m \u001b[38;5;28mself\u001b[39m\u001b[38;5;241m.\u001b[39mapply_compat()\n\u001b[1;32m   1426\u001b[0m \u001b[38;5;66;03m# self.func is Callable\u001b[39;00m\n\u001b[0;32m-> 1427\u001b[0m \u001b[38;5;28;01mreturn\u001b[39;00m \u001b[38;5;28;43mself\u001b[39;49m\u001b[38;5;241;43m.\u001b[39;49m\u001b[43mapply_standard\u001b[49m\u001b[43m(\u001b[49m\u001b[43m)\u001b[49m\n",
      "File \u001b[0;32m/n1Tb/miniconda3/envs/mugen_ml/lib/python3.10/site-packages/pandas/core/apply.py:1507\u001b[0m, in \u001b[0;36mSeriesApply.apply_standard\u001b[0;34m(self)\u001b[0m\n\u001b[1;32m   1501\u001b[0m \u001b[38;5;66;03m# row-wise access\u001b[39;00m\n\u001b[1;32m   1502\u001b[0m \u001b[38;5;66;03m# apply doesn't have a `na_action` keyword and for backward compat reasons\u001b[39;00m\n\u001b[1;32m   1503\u001b[0m \u001b[38;5;66;03m# we need to give `na_action=\"ignore\"` for categorical data.\u001b[39;00m\n\u001b[1;32m   1504\u001b[0m \u001b[38;5;66;03m# TODO: remove the `na_action=\"ignore\"` when that default has been changed in\u001b[39;00m\n\u001b[1;32m   1505\u001b[0m \u001b[38;5;66;03m#  Categorical (GH51645).\u001b[39;00m\n\u001b[1;32m   1506\u001b[0m action \u001b[38;5;241m=\u001b[39m \u001b[38;5;124m\"\u001b[39m\u001b[38;5;124mignore\u001b[39m\u001b[38;5;124m\"\u001b[39m \u001b[38;5;28;01mif\u001b[39;00m \u001b[38;5;28misinstance\u001b[39m(obj\u001b[38;5;241m.\u001b[39mdtype, CategoricalDtype) \u001b[38;5;28;01melse\u001b[39;00m \u001b[38;5;28;01mNone\u001b[39;00m\n\u001b[0;32m-> 1507\u001b[0m mapped \u001b[38;5;241m=\u001b[39m \u001b[43mobj\u001b[49m\u001b[38;5;241;43m.\u001b[39;49m\u001b[43m_map_values\u001b[49m\u001b[43m(\u001b[49m\n\u001b[1;32m   1508\u001b[0m \u001b[43m    \u001b[49m\u001b[43mmapper\u001b[49m\u001b[38;5;241;43m=\u001b[39;49m\u001b[43mcurried\u001b[49m\u001b[43m,\u001b[49m\u001b[43m \u001b[49m\u001b[43mna_action\u001b[49m\u001b[38;5;241;43m=\u001b[39;49m\u001b[43maction\u001b[49m\u001b[43m,\u001b[49m\u001b[43m \u001b[49m\u001b[43mconvert\u001b[49m\u001b[38;5;241;43m=\u001b[39;49m\u001b[38;5;28;43mself\u001b[39;49m\u001b[38;5;241;43m.\u001b[39;49m\u001b[43mconvert_dtype\u001b[49m\n\u001b[1;32m   1509\u001b[0m \u001b[43m\u001b[49m\u001b[43m)\u001b[49m\n\u001b[1;32m   1511\u001b[0m \u001b[38;5;28;01mif\u001b[39;00m \u001b[38;5;28mlen\u001b[39m(mapped) \u001b[38;5;129;01mand\u001b[39;00m \u001b[38;5;28misinstance\u001b[39m(mapped[\u001b[38;5;241m0\u001b[39m], ABCSeries):\n\u001b[1;32m   1512\u001b[0m     \u001b[38;5;66;03m# GH#43986 Need to do list(mapped) in order to get treated as nested\u001b[39;00m\n\u001b[1;32m   1513\u001b[0m     \u001b[38;5;66;03m#  See also GH#25959 regarding EA support\u001b[39;00m\n\u001b[1;32m   1514\u001b[0m     \u001b[38;5;28;01mreturn\u001b[39;00m obj\u001b[38;5;241m.\u001b[39m_constructor_expanddim(\u001b[38;5;28mlist\u001b[39m(mapped), index\u001b[38;5;241m=\u001b[39mobj\u001b[38;5;241m.\u001b[39mindex)\n",
      "File \u001b[0;32m/n1Tb/miniconda3/envs/mugen_ml/lib/python3.10/site-packages/pandas/core/base.py:919\u001b[0m, in \u001b[0;36mIndexOpsMixin._map_values\u001b[0;34m(self, mapper, na_action, convert)\u001b[0m\n\u001b[1;32m    916\u001b[0m arr \u001b[38;5;241m=\u001b[39m \u001b[38;5;28mself\u001b[39m\u001b[38;5;241m.\u001b[39m_values\n\u001b[1;32m    918\u001b[0m \u001b[38;5;28;01mif\u001b[39;00m \u001b[38;5;28misinstance\u001b[39m(arr, ExtensionArray):\n\u001b[0;32m--> 919\u001b[0m     \u001b[38;5;28;01mreturn\u001b[39;00m \u001b[43marr\u001b[49m\u001b[38;5;241;43m.\u001b[39;49m\u001b[43mmap\u001b[49m\u001b[43m(\u001b[49m\u001b[43mmapper\u001b[49m\u001b[43m,\u001b[49m\u001b[43m \u001b[49m\u001b[43mna_action\u001b[49m\u001b[38;5;241;43m=\u001b[39;49m\u001b[43mna_action\u001b[49m\u001b[43m)\u001b[49m\n\u001b[1;32m    921\u001b[0m \u001b[38;5;28;01mreturn\u001b[39;00m algorithms\u001b[38;5;241m.\u001b[39mmap_array(arr, mapper, na_action\u001b[38;5;241m=\u001b[39mna_action, convert\u001b[38;5;241m=\u001b[39mconvert)\n",
      "File \u001b[0;32m/n1Tb/miniconda3/envs/mugen_ml/lib/python3.10/site-packages/pandas/core/arrays/arrow/array.py:1414\u001b[0m, in \u001b[0;36mArrowExtensionArray.map\u001b[0;34m(self, mapper, na_action)\u001b[0m\n\u001b[1;32m   1412\u001b[0m     \u001b[38;5;28;01mreturn\u001b[39;00m map_array(\u001b[38;5;28mself\u001b[39m\u001b[38;5;241m.\u001b[39mto_numpy(), mapper, na_action\u001b[38;5;241m=\u001b[39m\u001b[38;5;28;01mNone\u001b[39;00m)\n\u001b[1;32m   1413\u001b[0m \u001b[38;5;28;01melse\u001b[39;00m:\n\u001b[0;32m-> 1414\u001b[0m     \u001b[38;5;28;01mreturn\u001b[39;00m \u001b[38;5;28;43msuper\u001b[39;49m\u001b[43m(\u001b[49m\u001b[43m)\u001b[49m\u001b[38;5;241;43m.\u001b[39;49m\u001b[43mmap\u001b[49m\u001b[43m(\u001b[49m\u001b[43mmapper\u001b[49m\u001b[43m,\u001b[49m\u001b[43m \u001b[49m\u001b[43mna_action\u001b[49m\u001b[43m)\u001b[49m\n",
      "File \u001b[0;32m/n1Tb/miniconda3/envs/mugen_ml/lib/python3.10/site-packages/pandas/core/arrays/base.py:2319\u001b[0m, in \u001b[0;36mExtensionArray.map\u001b[0;34m(self, mapper, na_action)\u001b[0m\n\u001b[1;32m   2299\u001b[0m \u001b[38;5;28;01mdef\u001b[39;00m \u001b[38;5;21mmap\u001b[39m(\u001b[38;5;28mself\u001b[39m, mapper, na_action\u001b[38;5;241m=\u001b[39m\u001b[38;5;28;01mNone\u001b[39;00m):\n\u001b[1;32m   2300\u001b[0m \u001b[38;5;250m    \u001b[39m\u001b[38;5;124;03m\"\"\"\u001b[39;00m\n\u001b[1;32m   2301\u001b[0m \u001b[38;5;124;03m    Map values using an input mapping or function.\u001b[39;00m\n\u001b[1;32m   2302\u001b[0m \n\u001b[0;32m   (...)\u001b[0m\n\u001b[1;32m   2317\u001b[0m \u001b[38;5;124;03m        a MultiIndex will be returned.\u001b[39;00m\n\u001b[1;32m   2318\u001b[0m \u001b[38;5;124;03m    \"\"\"\u001b[39;00m\n\u001b[0;32m-> 2319\u001b[0m     \u001b[38;5;28;01mreturn\u001b[39;00m \u001b[43mmap_array\u001b[49m\u001b[43m(\u001b[49m\u001b[38;5;28;43mself\u001b[39;49m\u001b[43m,\u001b[49m\u001b[43m \u001b[49m\u001b[43mmapper\u001b[49m\u001b[43m,\u001b[49m\u001b[43m \u001b[49m\u001b[43mna_action\u001b[49m\u001b[38;5;241;43m=\u001b[39;49m\u001b[43mna_action\u001b[49m\u001b[43m)\u001b[49m\n",
      "File \u001b[0;32m/n1Tb/miniconda3/envs/mugen_ml/lib/python3.10/site-packages/pandas/core/algorithms.py:1743\u001b[0m, in \u001b[0;36mmap_array\u001b[0;34m(arr, mapper, na_action, convert)\u001b[0m\n\u001b[1;32m   1741\u001b[0m values \u001b[38;5;241m=\u001b[39m arr\u001b[38;5;241m.\u001b[39mastype(\u001b[38;5;28mobject\u001b[39m, copy\u001b[38;5;241m=\u001b[39m\u001b[38;5;28;01mFalse\u001b[39;00m)\n\u001b[1;32m   1742\u001b[0m \u001b[38;5;28;01mif\u001b[39;00m na_action \u001b[38;5;129;01mis\u001b[39;00m \u001b[38;5;28;01mNone\u001b[39;00m:\n\u001b[0;32m-> 1743\u001b[0m     \u001b[38;5;28;01mreturn\u001b[39;00m \u001b[43mlib\u001b[49m\u001b[38;5;241;43m.\u001b[39;49m\u001b[43mmap_infer\u001b[49m\u001b[43m(\u001b[49m\u001b[43mvalues\u001b[49m\u001b[43m,\u001b[49m\u001b[43m \u001b[49m\u001b[43mmapper\u001b[49m\u001b[43m,\u001b[49m\u001b[43m \u001b[49m\u001b[43mconvert\u001b[49m\u001b[38;5;241;43m=\u001b[39;49m\u001b[43mconvert\u001b[49m\u001b[43m)\u001b[49m\n\u001b[1;32m   1744\u001b[0m \u001b[38;5;28;01melse\u001b[39;00m:\n\u001b[1;32m   1745\u001b[0m     \u001b[38;5;28;01mreturn\u001b[39;00m lib\u001b[38;5;241m.\u001b[39mmap_infer_mask(\n\u001b[1;32m   1746\u001b[0m         values, mapper, mask\u001b[38;5;241m=\u001b[39misna(values)\u001b[38;5;241m.\u001b[39mview(np\u001b[38;5;241m.\u001b[39muint8), convert\u001b[38;5;241m=\u001b[39mconvert\n\u001b[1;32m   1747\u001b[0m     )\n",
      "File \u001b[0;32mlib.pyx:2972\u001b[0m, in \u001b[0;36mpandas._libs.lib.map_infer\u001b[0;34m()\u001b[0m\n",
      "File \u001b[0;32m/n1Tb/miniconda3/envs/mugen_ml/lib/python3.10/site-packages/pandas/core/apply.py:1496\u001b[0m, in \u001b[0;36mSeriesApply.apply_standard.<locals>.curried\u001b[0;34m(x)\u001b[0m\n\u001b[1;32m   1495\u001b[0m \u001b[38;5;28;01mdef\u001b[39;00m \u001b[38;5;21mcurried\u001b[39m(x):\n\u001b[0;32m-> 1496\u001b[0m     \u001b[38;5;28;01mreturn\u001b[39;00m \u001b[43mfunc\u001b[49m\u001b[43m(\u001b[49m\u001b[43mx\u001b[49m\u001b[43m,\u001b[49m\u001b[43m \u001b[49m\u001b[38;5;241;43m*\u001b[39;49m\u001b[38;5;28;43mself\u001b[39;49m\u001b[38;5;241;43m.\u001b[39;49m\u001b[43margs\u001b[49m\u001b[43m,\u001b[49m\u001b[43m \u001b[49m\u001b[38;5;241;43m*\u001b[39;49m\u001b[38;5;241;43m*\u001b[39;49m\u001b[38;5;28;43mself\u001b[39;49m\u001b[38;5;241;43m.\u001b[39;49m\u001b[43mkwargs\u001b[49m\u001b[43m)\u001b[49m\n",
      "\u001b[0;31mTypeError\u001b[0m: <lambda>() got an unexpected keyword argument 'engine'"
     ]
    }
   ],
   "source": [
    "%%timeit -n 1 -r 1\n",
    "search_df = df[df[\"paths\"].apply(f, engine='numba', raw=True)]"
   ]
  },
  {
   "cell_type": "code",
   "execution_count": null,
   "id": "2a4088f0-aeee-413a-b75f-f360756a48c6",
   "metadata": {},
   "outputs": [],
   "source": []
  },
  {
   "cell_type": "code",
   "execution_count": 20,
   "id": "6ede290e-a68d-4b4e-ad6c-471794a6fc80",
   "metadata": {
    "tags": []
   },
   "outputs": [],
   "source": [
    "from functools import reduce\n",
    "# k = sum(n)"
   ]
  },
  {
   "cell_type": "code",
   "execution_count": 35,
   "id": "ce928e7c-2a69-48ee-9471-43e3e9145647",
   "metadata": {
    "tags": []
   },
   "outputs": [
    {
     "data": {
      "text/plain": [
       "paths    object\n",
       "dtype: object"
      ]
     },
     "execution_count": 35,
     "metadata": {},
     "output_type": "execute_result"
    }
   ],
   "source": [
    "search_df.dtypes"
   ]
  },
  {
   "cell_type": "code",
   "execution_count": 36,
   "id": "e2d376d0-3330-4224-af74-67f3c9ae4a5a",
   "metadata": {
    "tags": []
   },
   "outputs": [
    {
     "data": {
      "text/plain": [
       "'2.1.0'"
      ]
     },
     "execution_count": 36,
     "metadata": {},
     "output_type": "execute_result"
    }
   ],
   "source": [
    "pd.__version__"
   ]
  },
  {
   "cell_type": "code",
   "execution_count": 10,
   "id": "644c80dd-adac-4a16-bce1-5b7a473be714",
   "metadata": {
    "tags": []
   },
   "outputs": [],
   "source": [
    "import pickle\n"
   ]
  },
  {
   "cell_type": "code",
   "execution_count": 8,
   "id": "10647782-1f92-4466-b0a6-905546b1ab00",
   "metadata": {
    "tags": []
   },
   "outputs": [],
   "source": [
    "def load_tags(filepath):\n",
    "    audio_file = eyed3.load(filepath)\n",
    "    return {'Filepath': filepath, 'Title': audio_file.tag.title, 'Artist': audio_file.tag.artist, 'Album': audio_file.tag.album}\n",
    "\n",
    "data = {'Filepath': [], 'Title': [], 'Artist': [], 'Album': []}\n"
   ]
  },
  {
   "cell_type": "code",
   "execution_count": 9,
   "id": "b565b76e-0ba3-4c7c-bb3d-49d7d5702ed1",
   "metadata": {
    "tags": []
   },
   "outputs": [
    {
     "data": {
      "text/plain": [
       "{'Filepath': '/r32Ta/soundcloud_music/files/user-337026238/Crown Imperial, by William Walton.mp3',\n",
       " 'Title': 'Crown Imperial, by William Walton',\n",
       " 'Artist': 'Harrogate Symphony Orchestra',\n",
       " 'Album': None}"
      ]
     },
     "execution_count": 9,
     "metadata": {},
     "output_type": "execute_result"
    }
   ],
   "source": [
    "load_tags()"
   ]
  },
  {
   "cell_type": "code",
   "execution_count": 10,
   "id": "10f8044e-85f9-47a0-b9cd-7194f3df6002",
   "metadata": {
    "tags": []
   },
   "outputs": [],
   "source": [
    "fp = mp3_files[0]\n",
    "audio_file = eyed3.load(fp)"
   ]
  },
  {
   "cell_type": "code",
   "execution_count": 20,
   "id": "b96862b3-ea1a-406e-b86b-8289f0fe9099",
   "metadata": {
    "tags": []
   },
   "outputs": [],
   "source": [
    "tag_dict = {key: value for key, value in vars(audio_file.tag).items() if value is not None}\n"
   ]
  },
  {
   "cell_type": "markdown",
   "id": "a96a9c06-324c-436f-b939-fd9849ce5e05",
   "metadata": {
    "tags": []
   },
   "source": [
    "tag_dict"
   ]
  },
  {
   "cell_type": "code",
   "execution_count": 24,
   "id": "b3b3295b-46d7-44c0-9e1f-6bdcfa61f849",
   "metadata": {
    "tags": []
   },
   "outputs": [],
   "source": [
    "def frame_id_to_human_readable(frame_id):\n",
    "    id_map = {\n",
    "        'TIT2': 'Title',\n",
    "        'TPE1': 'Artist',\n",
    "        'TALB': 'Album',\n",
    "        'TRCK': 'Track Number',\n",
    "        'TLEN': 'Length',\n",
    "        'TYER': 'Year',\n",
    "        # Add more mappings based on ID3 standard\n",
    "    }\n",
    "    return id_map.get(frame_id, frame_id)"
   ]
  },
  {
   "cell_type": "code",
   "execution_count": 23,
   "id": "412c2e4b-d26b-44f5-b296-166c3fe0ec18",
   "metadata": {
    "tags": []
   },
   "outputs": [
    {
     "name": "stdout",
     "output_type": "stream",
     "text": [
      "[b'TIT2', b'TPE1', b'TDRC', b'TCON', b'WOAR', b'COMM', b'APIC']\n"
     ]
    }
   ],
   "source": [
    "used_tags = []\n",
    "for frame_id, frames in audio_file.tag.frame_set.items():\n",
    "    used_tags.append(frame_id)\n",
    "\n",
    "print(used_tags)"
   ]
  },
  {
   "cell_type": "code",
   "execution_count": 18,
   "id": "0e5437b5-7aca-488c-9476-aec02cb4052a",
   "metadata": {
    "tags": []
   },
   "outputs": [
    {
     "data": {
      "text/plain": [
       "{'file_info': <eyed3.id3.tag.FileInfo at 0x7f55818f31c0>,\n",
       " 'header': <eyed3.id3.headers.TagHeader at 0x7f5581b53610>,\n",
       " 'extended_header': <eyed3.id3.headers.ExtendedTagHeader at 0x7f55818d9810>,\n",
       " 'frame_set': {b'TIT2': [<eyed3.id3.frames.TextFrame at 0x7f5581904f40>],\n",
       "  b'TPE1': [<eyed3.id3.frames.TextFrame at 0x7f5581b52fe0>],\n",
       "  b'TDRC': [<eyed3.id3.frames.DateFrame at 0x7f5581b53700>],\n",
       "  b'TCON': [<eyed3.id3.frames.TextFrame at 0x7f5581b532b0>],\n",
       "  b'WOAR': [<eyed3.id3.frames.UrlFrame at 0x7f5581999960>],\n",
       "  b'COMM': [<eyed3.id3.frames.CommentFrame at 0x7f5581999930>],\n",
       "  b'APIC': [<eyed3.id3.frames.ImageFrame at 0x7f5581999330>]},\n",
       " '_comments': <eyed3.id3.tag.CommentsAccessor at 0x7f55818f0e50>,\n",
       " '_images': <eyed3.id3.tag.ImagesAccessor at 0x7f55818f0c70>,\n",
       " '_lyrics': <eyed3.id3.tag.LyricsAccessor at 0x7f55818f2b60>,\n",
       " '_objects': <eyed3.id3.tag.ObjectsAccessor at 0x7f55818f1180>,\n",
       " '_privates': <eyed3.id3.tag.PrivatesAccessor at 0x7f5581b52ec0>,\n",
       " '_user_texts': <eyed3.id3.tag.UserTextsAccessor at 0x7f5581b52e90>,\n",
       " '_unique_file_ids': <eyed3.id3.tag.UniqueFileIdAccessor at 0x7f5581b52d70>,\n",
       " '_user_urls': <eyed3.id3.tag.UserUrlsAccessor at 0x7f5581b534f0>,\n",
       " '_chapters': <eyed3.id3.tag.ChaptersAccessor at 0x7f5581b533a0>,\n",
       " '_tocs': <eyed3.id3.tag.TocAccessor at 0x7f5581b52f50>,\n",
       " '_popularities': <eyed3.id3.tag.PopularitiesAccessor at 0x7f5581b53400>}"
      ]
     },
     "execution_count": 18,
     "metadata": {},
     "output_type": "execute_result"
    }
   ],
   "source": [
    "audio_file.tag.__dict__"
   ]
  },
  {
   "cell_type": "code",
   "execution_count": 19,
   "id": "4dbca88e-5a0f-4969-aff7-369eb2d00794",
   "metadata": {
    "tags": []
   },
   "outputs": [
    {
     "data": {
      "text/plain": [
       "'Crown Imperial, by William Walton'"
      ]
     },
     "execution_count": 19,
     "metadata": {},
     "output_type": "execute_result"
    }
   ],
   "source": [
    "audio_file.tag.title"
   ]
  },
  {
   "cell_type": "code",
   "execution_count": 16,
   "id": "19f9019c-ddd2-4aa2-8dee-d527a91f388a",
   "metadata": {
    "tags": []
   },
   "outputs": [
    {
     "data": {
      "text/plain": [
       "{'file_info': <eyed3.id3.tag.FileInfo at 0x7f55818f31c0>,\n",
       " 'header': <eyed3.id3.headers.TagHeader at 0x7f5581b53610>,\n",
       " 'extended_header': <eyed3.id3.headers.ExtendedTagHeader at 0x7f55818d9810>,\n",
       " 'frame_set': {b'TIT2': [<eyed3.id3.frames.TextFrame at 0x7f5581904f40>],\n",
       "  b'TPE1': [<eyed3.id3.frames.TextFrame at 0x7f5581b52fe0>],\n",
       "  b'TDRC': [<eyed3.id3.frames.DateFrame at 0x7f5581b53700>],\n",
       "  b'TCON': [<eyed3.id3.frames.TextFrame at 0x7f5581b532b0>],\n",
       "  b'WOAR': [<eyed3.id3.frames.UrlFrame at 0x7f5581999960>],\n",
       "  b'COMM': [<eyed3.id3.frames.CommentFrame at 0x7f5581999930>],\n",
       "  b'APIC': [<eyed3.id3.frames.ImageFrame at 0x7f5581999330>]},\n",
       " '_comments': <eyed3.id3.tag.CommentsAccessor at 0x7f55818f0e50>,\n",
       " '_images': <eyed3.id3.tag.ImagesAccessor at 0x7f55818f0c70>,\n",
       " '_lyrics': <eyed3.id3.tag.LyricsAccessor at 0x7f55818f2b60>,\n",
       " '_objects': <eyed3.id3.tag.ObjectsAccessor at 0x7f55818f1180>,\n",
       " '_privates': <eyed3.id3.tag.PrivatesAccessor at 0x7f5581b52ec0>,\n",
       " '_user_texts': <eyed3.id3.tag.UserTextsAccessor at 0x7f5581b52e90>,\n",
       " '_unique_file_ids': <eyed3.id3.tag.UniqueFileIdAccessor at 0x7f5581b52d70>,\n",
       " '_user_urls': <eyed3.id3.tag.UserUrlsAccessor at 0x7f5581b534f0>,\n",
       " '_chapters': <eyed3.id3.tag.ChaptersAccessor at 0x7f5581b533a0>,\n",
       " '_tocs': <eyed3.id3.tag.TocAccessor at 0x7f5581b52f50>,\n",
       " '_popularities': <eyed3.id3.tag.PopularitiesAccessor at 0x7f5581b53400>}"
      ]
     },
     "execution_count": 16,
     "metadata": {},
     "output_type": "execute_result"
    }
   ],
   "source": [
    "audio_file._tag.__dict__"
   ]
  },
  {
   "cell_type": "code",
   "execution_count": null,
   "id": "4161c3f0-cd88-4418-a60d-cd237fd364b8",
   "metadata": {},
   "outputs": [],
   "source": []
  }
 ],
 "metadata": {
  "kernelspec": {
   "display_name": "mugen_ml",
   "language": "python",
   "name": "mugen_ml"
  },
  "language_info": {
   "codemirror_mode": {
    "name": "ipython",
    "version": 3
   },
   "file_extension": ".py",
   "mimetype": "text/x-python",
   "name": "python",
   "nbconvert_exporter": "python",
   "pygments_lexer": "ipython3",
   "version": "3.10.12"
  }
 },
 "nbformat": 4,
 "nbformat_minor": 5
}
